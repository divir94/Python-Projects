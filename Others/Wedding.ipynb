{
 "cells": [
  {
   "cell_type": "code",
   "execution_count": 146,
   "metadata": {
    "collapsed": false
   },
   "outputs": [
    {
     "name": "stdout",
     "output_type": "stream",
     "text": [
      "Mrs. & Mr. Laxmi Narain Goel\n",
      "Dr. Anita Sharma & Dr. Satish Sharma\n",
      "Dr. Vandana & Dr. Manoj Rai Mehta\n",
      "Mr. Puranjeet Singh\n",
      "Mrs. & Mr. Jawahar Goel\n",
      "Mrs. Sumitra Devi Gupta & Family\n",
      "Mrs. & Mr. Ramesh Chand Aggarwal\n",
      "Mrs. & Mr. Vashisht Kumar Goyal\n",
      "Mrs. Neelam Jolly & Mr. Shekhar Gupta\n",
      "Seth Sita Ram Gupta and Mrs. & Mr. Mahendra Gupta\n",
      "Dr. Rekha & Mr. Avtar Singh\n",
      "Mrs. & Mr. Anil Kumar IAS\n",
      "Mrs. Keshni Anand Arora\n",
      "Mrs. Nazli Shayin & Mr. Mohammed Shayin\n",
      "Mrs. & Mr. Anil Rao\n",
      "Mrs. Nisha Singh IAS & Mr. Ram Subhag Singh\n",
      "Mrs & Mr Vijay Inder Singla\n",
      "Mrs. and Prof. Kaptan Singh Solanki\n",
      "Mrs. & Mr. Moti Lal Gupta\n",
      "Mrs. & Mr. Om Parkash Aggarwal\n",
      "Mrs. & Mr. Ravi Kant Gupta\n",
      "Dr. Kamla  & Dr Dalbir Singh\n",
      "Dr Mankirat & Mr. Mukesh Murana\n",
      "Dr. Ayesha & Dr. Asruddin\n",
      "Dr. Sadbhawana & Dr. Ganesh Dutt Ratan\n",
      "Mrs. Yoshita & Mr. Ashok Mawal\n",
      "Mrs. Poonam & Mr. Amit Gupta\n",
      "Mrs. Neeta & Mr. Mukesh Mahawar\n",
      "Mrs. Deepti & Mr. Nishit Gupta\n",
      "Mrs. Aditi & Mr. Piyush Bihani\n",
      "Mrs. Anjali & Mr. Rahul Jain\n",
      "Mrs. Sunita & Mr. Raj Kumar Mahwar\n",
      "Mrs. Sweta & Mr. Sachin Gupta\n",
      "Total not found: 33\n"
     ]
    }
   ],
   "source": [
    "import csv\n",
    "import re\n",
    "\n",
    "old_file = open(\"Wedding list - Old.csv\")\n",
    "old_reader = csv.reader(old_file, dialect=csv.excel_tab)\n",
    "new_file = open(\"Wedding list - Master.csv\")\n",
    "new_reader = csv.reader(new_file, dialect=csv.excel_tab)\n",
    "\n",
    "out_file = open(\"new.csv\", \"wb\")\n",
    "writer = csv.writer(out_file, quotechar = \"'\")\n",
    "\n",
    "def strip_word(word):\n",
    "    pattern = re.compile(\"Mrs|Mr|Dr|Miss|\\W\", re.I)\n",
    "    return pattern.sub(\"\", word)\n",
    "\n",
    "def create_dict():\n",
    "    d = {}\n",
    "    for row in old_reader:\n",
    "        row = row[0].split(',')\n",
    "        name = row[1]\n",
    "        if name and name != 'Name':\n",
    "            d[strip_word(name)] = row\n",
    "    return d\n",
    "\n",
    "def add_info(d):\n",
    "    new_reader.next()\n",
    "    num_not_found = 0\n",
    "    for row in new_reader:\n",
    "        row = row[0].split(',')\n",
    "        name = strip_word(row[0])\n",
    "        if name[0].isdigit():\n",
    "            pass\n",
    "        elif name in d:\n",
    "            old_row = d[name]\n",
    "        else:\n",
    "            print row[0]\n",
    "            num_not_found += 1\n",
    "        #writer.writerow(row)\n",
    "    print \"Total not found: %d\" % num_not_found\n",
    "\n",
    "d = create_dict()\n",
    "add_info(d)\n",
    "\n",
    "old_file.close()\n",
    "new_file.close()\n",
    "out_file.close()"
   ]
  },
  {
   "cell_type": "code",
   "execution_count": null,
   "metadata": {
    "collapsed": true
   },
   "outputs": [],
   "source": []
  }
 ],
 "metadata": {
  "kernelspec": {
   "display_name": "Python 2",
   "language": "python",
   "name": "python2"
  },
  "language_info": {
   "codemirror_mode": {
    "name": "ipython",
    "version": 2
   },
   "file_extension": ".py",
   "mimetype": "text/x-python",
   "name": "python",
   "nbconvert_exporter": "python",
   "pygments_lexer": "ipython2",
   "version": "2.7.10"
  }
 },
 "nbformat": 4,
 "nbformat_minor": 0
}
