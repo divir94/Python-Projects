{
 "cells": [
  {
   "cell_type": "code",
   "execution_count": 4,
   "metadata": {
    "collapsed": false
   },
   "outputs": [],
   "source": [
    "import datetime\n",
    "import pandas as pd\n",
    "import Quandl\n",
    "\n",
    "ibm = Quandl.get('GOOG/NYSE_IBM')  # Use Google Finance as data source"
   ]
  },
  {
   "cell_type": "code",
   "execution_count": 6,
   "metadata": {
    "collapsed": false
   },
   "outputs": [
    {
     "data": {
      "text/html": [
       "<div style=\"max-height:1000px;max-width:1500px;overflow:auto;\">\n",
       "<table border=\"1\" class=\"dataframe\">\n",
       "  <thead>\n",
       "    <tr style=\"text-align: right;\">\n",
       "      <th></th>\n",
       "      <th>Open</th>\n",
       "      <th>High</th>\n",
       "      <th>Low</th>\n",
       "      <th>Close</th>\n",
       "      <th>Volume</th>\n",
       "    </tr>\n",
       "    <tr>\n",
       "      <th>Date</th>\n",
       "      <th></th>\n",
       "      <th></th>\n",
       "      <th></th>\n",
       "      <th></th>\n",
       "      <th></th>\n",
       "    </tr>\n",
       "  </thead>\n",
       "  <tbody>\n",
       "    <tr>\n",
       "      <th>2015-12-18</th>\n",
       "      <td> 136.41</td>\n",
       "      <td> 136.96</td>\n",
       "      <td> 134.27</td>\n",
       "      <td> 134.90</td>\n",
       "      <td> 10026106</td>\n",
       "    </tr>\n",
       "    <tr>\n",
       "      <th>2015-12-21</th>\n",
       "      <td> 135.83</td>\n",
       "      <td> 135.83</td>\n",
       "      <td> 134.02</td>\n",
       "      <td> 135.50</td>\n",
       "      <td>  5617475</td>\n",
       "    </tr>\n",
       "    <tr>\n",
       "      <th>2015-12-22</th>\n",
       "      <td> 135.88</td>\n",
       "      <td> 138.19</td>\n",
       "      <td> 135.65</td>\n",
       "      <td> 137.93</td>\n",
       "      <td>  4263828</td>\n",
       "    </tr>\n",
       "    <tr>\n",
       "      <th>2015-12-23</th>\n",
       "      <td> 138.30</td>\n",
       "      <td> 139.30</td>\n",
       "      <td> 138.11</td>\n",
       "      <td> 138.54</td>\n",
       "      <td>  5164916</td>\n",
       "    </tr>\n",
       "    <tr>\n",
       "      <th>2015-12-24</th>\n",
       "      <td> 138.43</td>\n",
       "      <td> 138.88</td>\n",
       "      <td> 138.11</td>\n",
       "      <td> 138.25</td>\n",
       "      <td>  1495226</td>\n",
       "    </tr>\n",
       "  </tbody>\n",
       "</table>\n",
       "<p>5 rows × 5 columns</p>\n",
       "</div>"
      ],
      "text/plain": [
       "              Open    High     Low   Close    Volume\n",
       "Date                                                \n",
       "2015-12-18  136.41  136.96  134.27  134.90  10026106\n",
       "2015-12-21  135.83  135.83  134.02  135.50   5617475\n",
       "2015-12-22  135.88  138.19  135.65  137.93   4263828\n",
       "2015-12-23  138.30  139.30  138.11  138.54   5164916\n",
       "2015-12-24  138.43  138.88  138.11  138.25   1495226\n",
       "\n",
       "[5 rows x 5 columns]"
      ]
     },
     "execution_count": 6,
     "metadata": {},
     "output_type": "execute_result"
    }
   ],
   "source": [
    "ibm.tail()"
   ]
  },
  {
   "cell_type": "code",
   "execution_count": 9,
   "metadata": {
    "collapsed": false
   },
   "outputs": [
    {
     "data": {
      "text/plain": [
       "<class 'pandas.tseries.index.DatetimeIndex'>\n",
       "[1981-03-11, ..., 2015-12-24]\n",
       "Length: 8792, Freq: None, Timezone: None"
      ]
     },
     "execution_count": 9,
     "metadata": {},
     "output_type": "execute_result"
    }
   ],
   "source": [
    "ibm.index"
   ]
  },
  {
   "cell_type": "code",
   "execution_count": null,
   "metadata": {
    "collapsed": true
   },
   "outputs": [],
   "source": []
  }
 ],
 "metadata": {
  "kernelspec": {
   "display_name": "Python 2",
   "language": "python",
   "name": "python2"
  },
  "language_info": {
   "codemirror_mode": {
    "name": "ipython",
    "version": 2
   },
   "file_extension": ".py",
   "mimetype": "text/x-python",
   "name": "python",
   "nbconvert_exporter": "python",
   "pygments_lexer": "ipython2",
   "version": "2.7.10"
  }
 },
 "nbformat": 4,
 "nbformat_minor": 0
}
