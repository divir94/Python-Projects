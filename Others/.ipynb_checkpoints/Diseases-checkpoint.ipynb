{
 "cells": [
  {
   "cell_type": "code",
   "execution_count": 12,
   "metadata": {
    "collapsed": false
   },
   "outputs": [],
   "source": [
    "import json\n",
    "from pprint import pprint\n",
    "import heapq"
   ]
  },
  {
   "cell_type": "code",
   "execution_count": null,
   "metadata": {
    "collapsed": true
   },
   "outputs": [],
   "source": [
    "data_file = open('diseases.json')   \n",
    "data = json.load(data_file)"
   ]
  },
  {
   "cell_type": "code",
   "execution_count": 32,
   "metadata": {
    "collapsed": false
   },
   "outputs": [
    {
     "name": "stdout",
     "output_type": "stream",
     "text": [
      "{u'autosomal dominant inheritance': 2343,\n",
      " u'autosomal recessive inheritance': 2720,\n",
      " u'cognitive impairment': 869,\n",
      " u'intellectual deficit/mental/psychomotor retardation/learning disability': 893,\n",
      " u'intellectual disability': 763,\n",
      " u'microcephaly': 780,\n",
      " u'muscular hypotonia': 761,\n",
      " u'seizures': 954,\n",
      " u'short stature': 924,\n",
      " u'short stature/dwarfism/nanism': 692}\n",
      "CPU times: user 106 ms, sys: 5.78 ms, total: 111 ms\n",
      "Wall time: 113 ms\n"
     ]
    }
   ],
   "source": [
    "def get_top(symptoms, k):\n",
    "    symptoms = {}\n",
    "    for obj in data:\n",
    "        for sym in obj.get('Symptoms', []):\n",
    "            symptoms[sym] = symptoms.get(sym, 0) + 1\n",
    "    top = heapq.nlargest(k, symptoms, key=symptoms.get)\n",
    "    d = {elm: symptoms[elm] for elm in top}\n",
    "    return d\n",
    "\n",
    "%time pprint(get_top(symptoms, 10))"
   ]
  },
  {
   "cell_type": "code",
   "execution_count": null,
   "metadata": {
    "collapsed": true
   },
   "outputs": [],
   "source": []
  }
 ],
 "metadata": {
  "kernelspec": {
   "display_name": "Python 2",
   "language": "python",
   "name": "python2"
  },
  "language_info": {
   "codemirror_mode": {
    "name": "ipython",
    "version": 2
   },
   "file_extension": ".py",
   "mimetype": "text/x-python",
   "name": "python",
   "nbconvert_exporter": "python",
   "pygments_lexer": "ipython2",
   "version": "2.7.11"
  }
 },
 "nbformat": 4,
 "nbformat_minor": 0
}
