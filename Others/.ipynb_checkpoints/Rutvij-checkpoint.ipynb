{
 "cells": [
  {
   "cell_type": "code",
   "execution_count": 2,
   "metadata": {
    "collapsed": false
   },
   "outputs": [],
   "source": [
    "import pandas as pd\n",
    "import statsmodels.formula.api as sm"
   ]
  },
  {
   "cell_type": "code",
   "execution_count": 7,
   "metadata": {
    "collapsed": false
   },
   "outputs": [],
   "source": [
    "df = pd.read_csv('rutvij.csv')\n",
    "regressors = \"electricity + water + birth_reg + school_enrollment + hiv_testing_m + no_hiv_results_f + no_hiv_results_m\"\n",
    "cases_result = sm.ols(formula=\"cases ~ %s\" % regressors, data=df).fit()\n",
    "deaths_result = sm.ols(formula=\"deaths ~ %s\" % regressors, data=df).fit()\n",
    "mortality_result = sm.ols(formula=\"mortality ~ %s\" % regressors, data=df).fit()"
   ]
  },
  {
   "cell_type": "code",
   "execution_count": 8,
   "metadata": {
    "collapsed": false
   },
   "outputs": [
    {
     "name": "stdout",
     "output_type": "stream",
     "text": [
      "                            OLS Regression Results                            \n",
      "==============================================================================\n",
      "Dep. Variable:                  cases   R-squared:                       0.314\n",
      "Model:                            OLS   Adj. R-squared:                  0.187\n",
      "Method:                 Least Squares   F-statistic:                     2.481\n",
      "Date:                Sat, 30 Apr 2016   Prob (F-statistic):             0.0335\n",
      "Time:                        21:27:14   Log-Likelihood:                -415.85\n",
      "No. Observations:                  46   AIC:                             847.7\n",
      "Df Residuals:                      38   BIC:                             862.3\n",
      "Df Model:                           7                                         \n",
      "Covariance Type:            nonrobust                                         \n",
      "=====================================================================================\n",
      "                        coef    std err          t      P>|t|      [95.0% Conf. Int.]\n",
      "-------------------------------------------------------------------------------------\n",
      "Intercept          3602.5389   1571.355      2.293      0.027       421.497  6783.581\n",
      "electricity          45.2864     30.850      1.468      0.150       -17.167   107.739\n",
      "water               -82.2291     38.055     -2.161      0.037      -159.268    -5.190\n",
      "birth_reg           -45.3948     23.353     -1.944      0.059       -92.671     1.881\n",
      "school_enrollment    59.6175     22.648      2.632      0.012        13.769   105.466\n",
      "hiv_testing_m       -52.7733     21.716     -2.430      0.020       -96.735    -8.812\n",
      "no_hiv_results_f    -35.4074     40.424     -0.876      0.387      -117.241    46.426\n",
      "no_hiv_results_m    -40.0235     30.072     -1.331      0.191      -100.901    20.854\n",
      "==============================================================================\n",
      "Omnibus:                       39.564   Durbin-Watson:                   1.983\n",
      "Prob(Omnibus):                  0.000   Jarque-Bera (JB):              122.189\n",
      "Skew:                           2.278   Prob(JB):                     2.93e-27\n",
      "Kurtosis:                       9.557   Cond. No.                         441.\n",
      "==============================================================================\n",
      "\n",
      "Warnings:\n",
      "[1] Standard Errors assume that the covariance matrix of the errors is correctly specified.\n"
     ]
    }
   ],
   "source": [
    "print cases_result.summary()"
   ]
  },
  {
   "cell_type": "code",
   "execution_count": 9,
   "metadata": {
    "collapsed": false
   },
   "outputs": [
    {
     "name": "stdout",
     "output_type": "stream",
     "text": [
      "                            OLS Regression Results                            \n",
      "==============================================================================\n",
      "Dep. Variable:                 deaths   R-squared:                       0.246\n",
      "Model:                            OLS   Adj. R-squared:                  0.107\n",
      "Method:                 Least Squares   F-statistic:                     1.774\n",
      "Date:                Sat, 30 Apr 2016   Prob (F-statistic):              0.121\n",
      "Time:                        21:27:21   Log-Likelihood:                -370.10\n",
      "No. Observations:                  46   AIC:                             756.2\n",
      "Df Residuals:                      38   BIC:                             770.8\n",
      "Df Model:                           7                                         \n",
      "Covariance Type:            nonrobust                                         \n",
      "=====================================================================================\n",
      "                        coef    std err          t      P>|t|      [95.0% Conf. Int.]\n",
      "-------------------------------------------------------------------------------------\n",
      "Intercept          1148.6693    581.234      1.976      0.055       -27.977  2325.316\n",
      "electricity           8.9286     11.411      0.782      0.439       -14.172    32.030\n",
      "water               -21.3809     14.076     -1.519      0.137       -49.877     7.115\n",
      "birth_reg           -13.6445      8.638     -1.580      0.122       -31.132     3.843\n",
      "school_enrollment    19.8634      8.377      2.371      0.023         2.904    36.822\n",
      "hiv_testing_m       -14.4929      8.033     -1.804      0.079       -30.754     1.768\n",
      "no_hiv_results_f    -15.6900     14.952     -1.049      0.301       -45.960    14.580\n",
      "no_hiv_results_m    -14.1795     11.123     -1.275      0.210       -36.698     8.339\n",
      "==============================================================================\n",
      "Omnibus:                       45.861   Durbin-Watson:                   2.057\n",
      "Prob(Omnibus):                  0.000   Jarque-Bera (JB):              188.984\n",
      "Skew:                           2.546   Prob(JB):                     9.17e-42\n",
      "Kurtosis:                      11.524   Cond. No.                         441.\n",
      "==============================================================================\n",
      "\n",
      "Warnings:\n",
      "[1] Standard Errors assume that the covariance matrix of the errors is correctly specified.\n"
     ]
    }
   ],
   "source": [
    "print deaths_result.summary()"
   ]
  },
  {
   "cell_type": "code",
   "execution_count": 10,
   "metadata": {
    "collapsed": false
   },
   "outputs": [
    {
     "name": "stdout",
     "output_type": "stream",
     "text": [
      "                            OLS Regression Results                            \n",
      "==============================================================================\n",
      "Dep. Variable:              mortality   R-squared:                       0.424\n",
      "Model:                            OLS   Adj. R-squared:                  0.318\n",
      "Method:                 Least Squares   F-statistic:                     3.999\n",
      "Date:                Sat, 30 Apr 2016   Prob (F-statistic):            0.00229\n",
      "Time:                        21:27:27   Log-Likelihood:                -190.75\n",
      "No. Observations:                  46   AIC:                             397.5\n",
      "Df Residuals:                      38   BIC:                             412.1\n",
      "Df Model:                           7                                         \n",
      "Covariance Type:            nonrobust                                         \n",
      "=====================================================================================\n",
      "                        coef    std err          t      P>|t|      [95.0% Conf. Int.]\n",
      "-------------------------------------------------------------------------------------\n",
      "Intercept            71.6429     11.777      6.083      0.000        47.802    95.484\n",
      "electricity          -0.1167      0.231     -0.505      0.617        -0.585     0.351\n",
      "water                 0.2808      0.285      0.985      0.331        -0.297     0.858\n",
      "birth_reg             0.4537      0.175      2.592      0.013         0.099     0.808\n",
      "school_enrollment    -0.4431      0.170     -2.610      0.013        -0.787    -0.099\n",
      "hiv_testing_m        -0.2095      0.163     -1.287      0.206        -0.539     0.120\n",
      "no_hiv_results_f     -0.0160      0.303     -0.053      0.958        -0.629     0.597\n",
      "no_hiv_results_m     -0.2965      0.225     -1.316      0.196        -0.753     0.160\n",
      "==============================================================================\n",
      "Omnibus:                        1.994   Durbin-Watson:                   2.004\n",
      "Prob(Omnibus):                  0.369   Jarque-Bera (JB):                1.101\n",
      "Skew:                           0.159   Prob(JB):                        0.577\n",
      "Kurtosis:                       3.688   Cond. No.                         441.\n",
      "==============================================================================\n",
      "\n",
      "Warnings:\n",
      "[1] Standard Errors assume that the covariance matrix of the errors is correctly specified.\n"
     ]
    }
   ],
   "source": [
    "print mortality_result.summary()"
   ]
  },
  {
   "cell_type": "code",
   "execution_count": null,
   "metadata": {
    "collapsed": true
   },
   "outputs": [],
   "source": []
  }
 ],
 "metadata": {
  "kernelspec": {
   "display_name": "Python 2",
   "language": "python",
   "name": "python2"
  },
  "language_info": {
   "codemirror_mode": {
    "name": "ipython",
    "version": 2
   },
   "file_extension": ".py",
   "mimetype": "text/x-python",
   "name": "python",
   "nbconvert_exporter": "python",
   "pygments_lexer": "ipython2",
   "version": "2.7.11"
  }
 },
 "nbformat": 4,
 "nbformat_minor": 0
}
