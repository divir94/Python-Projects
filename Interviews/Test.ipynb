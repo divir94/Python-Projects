{
 "cells": [
  {
   "cell_type": "code",
   "execution_count": 21,
   "metadata": {
    "collapsed": false
   },
   "outputs": [],
   "source": [
    "from collections import deque"
   ]
  },
  {
   "cell_type": "code",
   "execution_count": 29,
   "metadata": {
    "collapsed": true
   },
   "outputs": [],
   "source": [
    "class Node:\n",
    "    def __init__(self, value, children=[]):\n",
    "        self.value = value\n",
    "        self.children = children\n",
    "        return"
   ]
  },
  {
   "cell_type": "code",
   "execution_count": 12,
   "metadata": {
    "collapsed": true
   },
   "outputs": [],
   "source": [
    "def create_tree(lst):\n",
    "    node = Node(lst[0])\n",
    "    if len(lst) > 1:\n",
    "        children = []\n",
    "        for child in lst[1:]:\n",
    "            children.append(create_tree(child))\n",
    "        node.children = children\n",
    "    return node"
   ]
  },
  {
   "cell_type": "code",
   "execution_count": 41,
   "metadata": {
    "collapsed": false
   },
   "outputs": [],
   "source": [
    "def bfs(tree, elem):\n",
    "    Q = deque()\n",
    "    Q.append(tree)\n",
    "    while Q:\n",
    "        node = Q.popleft()\n",
    "        if node.value == elem:\n",
    "            return True\n",
    "        for child in node.children:\n",
    "            Q.append(child)\n",
    "    return False\n",
    "\n",
    "def dfs(tree, elem):\n",
    "    if tree.value == elem:\n",
    "        return True\n",
    "    print tree.value\n",
    "    for child in tree.children:\n",
    "        if dfs(child, elem):\n",
    "            return True\n",
    "    return False"
   ]
  },
  {
   "cell_type": "code",
   "execution_count": 42,
   "metadata": {
    "collapsed": false
   },
   "outputs": [
    {
     "name": "stdout",
     "output_type": "stream",
     "text": [
      "4\n",
      "10\n",
      "33\n",
      "2\n",
      "3\n",
      "14\n",
      "12\n",
      "1\n"
     ]
    },
    {
     "data": {
      "text/plain": [
       "False"
      ]
     },
     "execution_count": 42,
     "metadata": {},
     "output_type": "execute_result"
    }
   ],
   "source": [
    "tree_lst = [4, [10, [33], [2]], [3], [14, [12]], [1]]\n",
    "tree = create_tree(tree_lst)\n",
    "\n",
    "dfs(tree, 11)"
   ]
  },
  {
   "cell_type": "code",
   "execution_count": null,
   "metadata": {
    "collapsed": true
   },
   "outputs": [],
   "source": []
  }
 ],
 "metadata": {
  "kernelspec": {
   "display_name": "Python 2",
   "language": "python",
   "name": "python2"
  },
  "language_info": {
   "codemirror_mode": {
    "name": "ipython",
    "version": 2
   },
   "file_extension": ".py",
   "mimetype": "text/x-python",
   "name": "python",
   "nbconvert_exporter": "python",
   "pygments_lexer": "ipython2",
   "version": "2.7.11"
  }
 },
 "nbformat": 4,
 "nbformat_minor": 0
}
