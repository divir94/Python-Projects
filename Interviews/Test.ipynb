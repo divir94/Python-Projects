{
 "cells": [
  {
   "cell_type": "code",
   "execution_count": 30,
   "metadata": {
    "collapsed": false
   },
   "outputs": [
    {
     "name": "stdout",
     "output_type": "stream",
     "text": [
      "[-2, -1, 0]\n"
     ]
    }
   ],
   "source": [
    "def consecutive_ints(arr):\n",
    "    # last number seen\n",
    "    last_num = arr[0]\n",
    "    # current sequence\n",
    "    start = end = seq_len = 0 \n",
    "    # longest sequence seen\n",
    "    max_start = max_end = max_seq_len = 0 \n",
    "    \n",
    "    for i, num in enumerate(arr):\n",
    "        if i == 0:\n",
    "            seq_len = 1\n",
    "        # if same as last, update sequence\n",
    "        if num == last_num + 1:\n",
    "            end += 1\n",
    "            seq_len += 1\n",
    "        # otherwise, reset\n",
    "        else:\n",
    "            start = end = i\n",
    "            seq_len = 1\n",
    "\n",
    "        # update longest sequence seen\n",
    "        if seq_len > max_seq_len:\n",
    "            max_seq_len = seq_len\n",
    "            max_start = start\n",
    "            max_end = end\n",
    "    \n",
    "        # update last number\n",
    "        last_num = num\n",
    "    return arr[max_start : max_end + 1]\n",
    "\n",
    "print consecutive_ints([3, 4, -2, -1, 0, 4])"
   ]
  },
  {
   "cell_type": "code",
   "execution_count": null,
   "metadata": {
    "collapsed": true
   },
   "outputs": [],
   "source": []
  }
 ],
 "metadata": {
  "kernelspec": {
   "display_name": "Python 2",
   "language": "python",
   "name": "python2"
  },
  "language_info": {
   "codemirror_mode": {
    "name": "ipython",
    "version": 2
   },
   "file_extension": ".py",
   "mimetype": "text/x-python",
   "name": "python",
   "nbconvert_exporter": "python",
   "pygments_lexer": "ipython2",
   "version": "2.7.10"
  }
 },
 "nbformat": 4,
 "nbformat_minor": 0
}
