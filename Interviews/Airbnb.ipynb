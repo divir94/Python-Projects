{
 "cells": [
  {
   "cell_type": "code",
   "execution_count": 13,
   "metadata": {
    "collapsed": false
   },
   "outputs": [
    {
     "name": "stdout",
     "output_type": "stream",
     "text": [
      "[[ 1.  1.  1.  1.]\n",
      " [ 1.  0.  0.  0.]\n",
      " [ 1.  0.  0.  0.]\n",
      " [ 2.  1.  0.  0.]\n",
      " [ 3.  1.  1.  0.]\n",
      " [ 3.  0.  0.  0.]\n",
      " [ 4.  1.  0.  0.]]\n"
     ]
    }
   ],
   "source": [
    "import numpy as np\n",
    "\n",
    "def make_change(n, coins):\n",
    "    m = len(coins)\n",
    "    memo = np.zeros((n + 1, m + 1))\n",
    "    memo[0][:] = 1 \n",
    "    for i in range(1, n + 1):\n",
    "        for j in reversed(range(m)):\n",
    "            coin = coins[j]\n",
    "            use_coin = 0 if (i - coin) < 0 else memo[i - coin][j]\n",
    "            memo[i][j] = use_coin + memo[i][j + 1]\n",
    "    print memo\n",
    "            \n",
    "make_change(6, [1, 3, 4])"
   ]
  },
  {
   "cell_type": "code",
   "execution_count": 20,
   "metadata": {
    "collapsed": false
   },
   "outputs": [
    {
     "name": "stdout",
     "output_type": "stream",
     "text": [
      "4.0\n",
      "[[ 1.  1.  1.  1.]\n",
      " [ 1.  0.  0.  0.]\n",
      " [ 1.  0.  0.  0.]\n",
      " [ 2.  1.  0.  0.]\n",
      " [ 3.  1.  1.  0.]\n",
      " [ 3.  0.  0.  0.]\n",
      " [ 4.  1.  0.  0.]]\n"
     ]
    }
   ],
   "source": [
    "def make_change(n, coins, path):\n",
    "    if n < 0 or not coins:\n",
    "        return 0\n",
    "    if memo[n][-len(coins) - 1]:\n",
    "        return memo[n][-len(coins)- 1]\n",
    "    if n == 0:\n",
    "        print path\n",
    "        return 1\n",
    "    coin = coins[0]\n",
    "    num = make_change(n - coin, coins, path + [coin]) + make_change(n, coins[1:], path)\n",
    "    memo[n][-len(coins)- 1] = num\n",
    "    return num\n",
    "\n",
    "n, coins = 6, [1, 3, 4]\n",
    "m = len(coins)\n",
    "memo = np.zeros((n + 1, m + 1))\n",
    "memo[0][:] = 1\n",
    "print make_change(n, coins, [])\n",
    "print memo"
   ]
  },
  {
   "cell_type": "code",
   "execution_count": 74,
   "metadata": {
    "collapsed": false
   },
   "outputs": [
    {
     "name": "stdout",
     "output_type": "stream",
     "text": [
      "[[ inf  inf  inf  inf  inf  inf  inf  inf  0.9  1.1]\n",
      " [ inf  inf  inf  inf  inf  inf  0.6  0.8  1.4  inf]\n",
      " [ inf  inf  0.2  0.8  inf  inf  inf  inf  inf  inf]\n",
      " [ 0.   inf  inf  inf  inf  inf  inf  inf  inf  inf]]\n"
     ]
    },
    {
     "data": {
      "text/plain": [
       "1.0999999999999996"
      ]
     },
     "execution_count": 74,
     "metadata": {},
     "output_type": "execute_result"
    }
   ],
   "source": [
    "\"\"\"\n",
    "\n",
    "Given an array of numbers A = [x1, x2, ..., xn] and T = Round(x1+x2+... +xn),\n",
    "we want to find a way to round each element in A such that after rounding we get a new array\n",
    "B = [y1, y2, ...., yn] such that y1+y2+...+yn = T where yi = Floor(xi) or Ceil(xi), while minimizing sum_i |x_i-y_i|\n",
    "\n",
    "2.3 + 4.4 + 2.2 = 8.9 -> T = 9\n",
    "\n",
    "input:  A = [2.3, 4.4, 2.2]\n",
    "output: B = [2, 5, 2],\n",
    "        T = 9\n",
    "        error = |2.3 - 2| + |4.4 - 5| + |2.2 - 2| = 0.3 + 0.6 + 0.2 = 1.1\n",
    "\n",
    "Round(x1+x2+... +xn) = (y1 + ... + yn)\n",
    "round(x1 + .. xi) = (y1 + ... + yi)\n",
    "\n",
    "1) 2 + 4 + 2 = 8,  error = 0.3 + 0.4 + 0.2 = 1.0\n",
    "2) 2 + 4 + 3 = 9,  error = 0.3 + 0.4 + 0.7 = 1.4\n",
    "3) 2 + 5 + 2 = 9,  error = 0.3 + 0.6 + 0.2 = 1.1 <- desired solution\n",
    "4) 2 + 5 + 3 = 10, error = 0.3 + 0.6 + 0.7 = 1.6\n",
    "5) 3 + 4 + 2 = 9,  error = 0.7 + 0.4 + 0.2 = 1.3 \n",
    "6) 3 + 4 + 3 = 10, error = 0.7 + 0.4 + 0.7 = 1.8 \n",
    "7) 3 + 5 + 2 = 10, error = 0.7 + 0.6 + 0.2 = 1.5\n",
    "8) 3 + 5 + 3 = 11, error = 0.7 + 0.6 + 0.7 = 2.0\n",
    "\n",
    "           \n",
    "        2      3\n",
    "     4    5  4   5\n",
    "     \n",
    "n = [x1, ..., xn]\n",
    "\n",
    "OPT(n) is the error of [x1, ..., xn]\n",
    "OPT(n) = OPT(n - 1) + min{error(ceil xn), error(floor xn)} satisfying t\n",
    "\n",
    "OPT(0) = min{error(ceil xn), error(floor xn)}\n",
    "\"\"\"\n",
    "\n",
    "import math\n",
    "\n",
    "def opt_round(A):\n",
    "    n, t = len(A), int(round(sum(A)))\n",
    "    memo = np.zeros((n + 1, t + 1))\n",
    "    memo[-1][:] = float(\"inf\")\n",
    "    memo[-1][0] = 0\n",
    "    B = []\n",
    "    for i in reversed(range(n)):\n",
    "        for j in range(t + 1):\n",
    "            up, down = math.ceil(A[i]), math.floor(A[i])\n",
    "            up_err, down_err = abs(A[i] - up), abs(A[i] - down)\n",
    "            if ((j - up) < 0) and ((j - down) < 0):\n",
    "                memo[i][j] = float(\"inf\")\n",
    "            elif ((j - up) < 0):\n",
    "                memo[i][j] = down_err + memo[i + 1][j - down]\n",
    "            elif ((j - down) < 0):\n",
    "                memo[i][j] = up_err + memo[i + 1][j - up]\n",
    "            else:\n",
    "                memo[i][j] = min(up_err + memo[i + 1][j - up], \n",
    "                                 down_err + memo[i + 1][j - down])\n",
    "    print memo\n",
    "    return memo[0][-1]\n",
    "\n",
    "A2 = {2.3, 4.5, 7.6, 3.4, 6.7, 2.9, 1.8, 8.6}\n",
    "A = [2.3, 4.4, 2.2]\n",
    "opt_round(A)"
   ]
  },
  {
   "cell_type": "code",
   "execution_count": 100,
   "metadata": {
    "collapsed": false
   },
   "outputs": [
    {
     "name": "stdout",
     "output_type": "stream",
     "text": [
      "Path: [2.0, 4.0, 8.0, 3.0, 7.0, 3.0, 2.0, 9.0]\n",
      "Path Sum: 38\n",
      "T: 38\n",
      "Error: 2.60\n"
     ]
    }
   ],
   "source": [
    "def OPT(A, i, j):\n",
    "    if (i, j) in memo:\n",
    "        return memo[(i, j)]\n",
    "    if i == len(A):\n",
    "        return (0, [])  if j==0 else (float(\"inf\"), [])\n",
    "    if j < 0:\n",
    "        return (float(\"inf\"), [])\n",
    "    \n",
    "    up      , down        = math.ceil(A[i]), math.floor(A[i])\n",
    "    opt_up  , path_up     = OPT(A, i + 1, j - up)\n",
    "    opt_down, path_down   = OPT(A, i + 1, j - down)\n",
    "    up_err  , down_err    = abs(A[i] - up) + opt_up, abs(A[i] - down) + opt_down\n",
    "    \n",
    "    res = (up_err, [up] + path_up) if up_err < down_err else (down_err, [down] + path_down)\n",
    "    memo[(i, j)] = res \n",
    "    return res\n",
    "  \n",
    "memo = {}\n",
    "A1 = [2.3, 4.4, 2.2]\n",
    "A2 = [2.3, 4.5, 7.6, 3.4, 6.7, 2.9, 1.8, 8.6]\n",
    "\n",
    "t = int(round(sum(A2)))\n",
    "error, path = OPT(A2, 0, t)\n",
    "\n",
    "print \"Path: %s\\nPath Sum: %d\\nT: %d\\nError: %.2f\" % (str(path), sum(path), t, error)"
   ]
  },
  {
   "cell_type": "code",
   "execution_count": null,
   "metadata": {
    "collapsed": true
   },
   "outputs": [],
   "source": [
    "# \"racecar\" 7, 0-2\n",
    "# \"abba\" 4, 0-1\n",
    "\n",
    "# {\"gab\", \"cat\", \"bag\"} => [gab, bag], [bag, gab]\n",
    "# gabbag baggab\n",
    "# \"hell\", \"\n",
    "# race car\n",
    "# race rac\n",
    "# {\"gab\", \"cat\", \"bag\", \"rac\"}, \"race\"\n",
    "# \"abb\", \"cbba\", {\"bba\"}\n",
    "# Inp: [\"aaa\", \"abcd\", \"cba\"]\n",
    "# {\"aaa\", \"bcba\", \"abc\"}\n",
    "# \"abcd\" \"cba\", {\"bcba\"}\n",
    "\n",
    "\n",
    "def is_palindrome(str):\n",
    "    size = len(str)\n",
    "    for i in xrange(size / 2):\n",
    "        j = size - 1 - i\n",
    "        if str[i] != str[j]:\n",
    "            return False\n",
    "    return True\n",
    "\n",
    "def get_all_palindromes(lst):\n",
    "    seen = {}\n",
    "    freq = {}\n",
    "    palindromes = []\n",
    "    for word in lst:\n",
    "        seen[word[::-1]] = 1\n",
    "        if word in freq:\n",
    "            freq[word] = freq[word] + 1\n",
    "        else:\n",
    "            freq[word] = 1\n",
    "    print \"lst: \", lst\n",
    "    print \"seen: \", seen\n",
    "    print \"freq: \", freq\n",
    "    \n",
    "    for word in lst:\n",
    "        # abcd => abcd, abc, ab, a\n",
    "        # abcd => abcd, bcd, cd, d\n",
    "        for i in xrange(len(word)):\n",
    "            # remove chars from end\n",
    "            if word[:-i] in seen:\n",
    "                print i, word, word[:-i]\n",
    "                word1 = word\n",
    "                word2 = word[:-i][::-1]\n",
    "                if word1 == word2:\n",
    "                    if freq[word1] > 1:\n",
    "                        palindromes.append(word1 + word2)\n",
    "                else:\n",
    "                    if is_palindrome(word1 + word2):\n",
    "                        palindromes.append(word1 + word2)\n",
    "                    if is_palindrome(word2 + word1):\n",
    "                        palindromes.append(word2 + word1)\n",
    "                continue\n",
    "            # remove chars from start\n",
    "            if word[i:] in seen:\n",
    "                print i, word, word[i:]\n",
    "                word1 = word\n",
    "                word2 = word[i:][::-1]\n",
    "                if word1 == word2:\n",
    "                    if freq[word1] > 1:\n",
    "                        palindromes.append(word1 + word2)\n",
    "                else:\n",
    "                    if is_palindrome(word1 + word2):\n",
    "                        palindromes.append(word1 + word2)\n",
    "                    if is_palindrome(word2 + word1):\n",
    "                        palindromes.append(word2 + word1)\n",
    "                continue\n",
    "    return palindromes\n",
    "\n",
    "print get_all_palindromes([\"abccc\", \"cba\", \"aaa\", \"baaa\"])"
   ]
  }
 ],
 "metadata": {
  "kernelspec": {
   "display_name": "Python 2",
   "language": "python",
   "name": "python2"
  },
  "language_info": {
   "codemirror_mode": {
    "name": "ipython",
    "version": 2
   },
   "file_extension": ".py",
   "mimetype": "text/x-python",
   "name": "python",
   "nbconvert_exporter": "python",
   "pygments_lexer": "ipython2",
   "version": "2.7.10"
  }
 },
 "nbformat": 4,
 "nbformat_minor": 0
}
