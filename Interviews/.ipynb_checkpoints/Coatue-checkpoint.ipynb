{
 "cells": [
  {
   "cell_type": "code",
   "execution_count": 1,
   "metadata": {
    "collapsed": false
   },
   "outputs": [],
   "source": [
    "import numpy as np\n",
    "import pandas as pd\n",
    "import numexpr as ne\n",
    "\n",
    "from math import sqrt\n",
    "from multiprocessing import Pool"
   ]
  },
  {
   "cell_type": "code",
   "execution_count": 2,
   "metadata": {
    "collapsed": false
   },
   "outputs": [
    {
     "name": "stdout",
     "output_type": "stream",
     "text": [
      "          x1         y1         x2         y2\n",
      "0  22.468385  17.611699  21.022606  18.604954\n",
      "1  18.649893  20.080207  21.193146  20.475932\n",
      "2  20.832434  21.683929  19.582718  19.806201\n",
      "3  18.654435  20.354341  20.534422  20.184434\n",
      "4  20.887474  21.169106  19.831849  19.520060\n"
     ]
    }
   ],
   "source": [
    "def create_random_df(mean, std, n):\n",
    "    return pd.DataFrame(np.random.normal(mean, std, (n, 4)), columns=['x1', 'y1', 'x2', 'y2'])\n",
    "\n",
    "df = create_random_df(20, 1, 10000)\n",
    "print df.head()"
   ]
  },
  {
   "cell_type": "code",
   "execution_count": 3,
   "metadata": {
    "collapsed": false
   },
   "outputs": [],
   "source": [
    "def euclidean_dist1(df):\n",
    "    '''simple implementation from scratch'''\n",
    "    return np.sqrt(np.square(df['x1'] - df['x2']) + np.square(df['y1'] - df['y2']))\n",
    "\n",
    "def euclidean_dist2(df):\n",
    "    '''using norm method from numpy'''\n",
    "    return np.linalg.norm(df[['x1', 'y1']].values - df[['x2', 'y2']].values, axis=1)\n",
    "\n",
    "def dist(row):\n",
    "    '''distance for a single pair of points'''\n",
    "    return sqrt((row[0] - row[2])**2 + (row[1] - row[3])**2)\n",
    "\n",
    "def euclidean_dist3(df):\n",
    "    '''use multiprocessing to compute distances in parallel'''\n",
    "    p = Pool(processes=4)\n",
    "    res = p.map(dist, df.values)\n",
    "    p.terminate()\n",
    "    return res\n",
    "\n",
    "def euclidean_dist4(df):\n",
    "    '''numexpr uses multi-threading capabilities to make use of all cores'''\n",
    "    x1, y1, x2, y2 = df['x1'], df['y1'], df['x2'], df['y2']\n",
    "    return ne.evaluate('sqrt((x1 - x2)**2 + (y1 - y2)**2)')"
   ]
  },
  {
   "cell_type": "code",
   "execution_count": 4,
   "metadata": {
    "collapsed": false
   },
   "outputs": [
    {
     "data": {
      "text/plain": [
       "True"
      ]
     },
     "execution_count": 4,
     "metadata": {},
     "output_type": "execute_result"
    }
   ],
   "source": [
    "# sanity check: all functions return the same result\n",
    "np.allclose(euclidean_dist1(df), euclidean_dist2(df), euclidean_dist3(df), euclidean_dist4(df))"
   ]
  },
  {
   "cell_type": "code",
   "execution_count": 5,
   "metadata": {
    "collapsed": false
   },
   "outputs": [
    {
     "name": "stdout",
     "output_type": "stream",
     "text": [
      "1000 loops, best of 3: 440 µs per loop\n",
      "1000 loops, best of 3: 1.07 ms per loop\n",
      "10 loops, best of 3: 117 ms per loop\n",
      "1000 loops, best of 3: 216 µs per loop\n"
     ]
    }
   ],
   "source": [
    "%timeit euclidean_dist1(df)\n",
    "%timeit euclidean_dist2(df)\n",
    "%timeit euclidean_dist3(df)\n",
    "%timeit euclidean_dist4(df)"
   ]
  },
  {
   "cell_type": "code",
   "execution_count": 6,
   "metadata": {
    "collapsed": false
   },
   "outputs": [
    {
     "name": "stdout",
     "output_type": "stream",
     "text": [
      "100 loops, best of 3: 2.22 ms per loop\n",
      "100 loops, best of 3: 4.86 ms per loop\n",
      "1 loop, best of 3: 522 ms per loop\n",
      "1000 loops, best of 3: 781 µs per loop\n"
     ]
    }
   ],
   "source": [
    "df = create_random_df(20, 1, 100000)\n",
    "%timeit euclidean_dist1(df)\n",
    "%timeit euclidean_dist2(df)\n",
    "%timeit euclidean_dist3(df)\n",
    "%timeit euclidean_dist4(df)"
   ]
  },
  {
   "cell_type": "code",
   "execution_count": 7,
   "metadata": {
    "collapsed": false
   },
   "outputs": [
    {
     "name": "stdout",
     "output_type": "stream",
     "text": [
      "10 loops, best of 3: 21.3 ms per loop\n",
      "10 loops, best of 3: 49.8 ms per loop\n",
      "1 loop, best of 3: 4.88 s per loop\n",
      "100 loops, best of 3: 6.97 ms per loop\n"
     ]
    }
   ],
   "source": [
    "df = create_random_df(20, 1, 1000000)\n",
    "%timeit euclidean_dist1(df)\n",
    "%timeit euclidean_dist2(df)\n",
    "%timeit euclidean_dist3(df)\n",
    "%timeit euclidean_dist4(df)"
   ]
  },
  {
   "cell_type": "markdown",
   "metadata": {},
   "source": [
    "<p>All the functions above should scale linearly in the size of the input.</p>\n",
    "<p>euclidean_dist3 which uses multithreading doesn't do as well probably because the overhead of spawning different processes is high.</p>\n",
    "<p>euclidean_dist4 is the fastest since it uses all the cores available. For example, the compution should be 4 times faster if we have 4 cores available. See more on the website of how it improves performance: https://github.com/pydata/numexpr</p>"
   ]
  }
 ],
 "metadata": {
  "kernelspec": {
   "display_name": "Python 2",
   "language": "python",
   "name": "python2"
  },
  "language_info": {
   "codemirror_mode": {
    "name": "ipython",
    "version": 2
   },
   "file_extension": ".py",
   "mimetype": "text/x-python",
   "name": "python",
   "nbconvert_exporter": "python",
   "pygments_lexer": "ipython2",
   "version": "2.7.11"
  }
 },
 "nbformat": 4,
 "nbformat_minor": 0
}
