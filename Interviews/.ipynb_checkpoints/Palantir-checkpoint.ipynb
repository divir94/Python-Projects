{
 "cells": [
  {
   "cell_type": "code",
   "execution_count": 50,
   "metadata": {
    "collapsed": false
   },
   "outputs": [
    {
     "name": "stdout",
     "output_type": "stream",
     "text": [
      "['00:05', '05:30', '06:50', '08:55', '23:05']\n",
      "60\n"
     ]
    }
   ],
   "source": [
    "def diff(time1, time2):\n",
    "    h1, m1, = int(time1[:2]), int(time1[3:])\n",
    "    h2, m2, = int(time2[:2]), int(time2[3:])\n",
    "    \n",
    "    if h2 == h1:\n",
    "        return abs(m2 - m1)\n",
    "    elif h2 > h1:\n",
    "        return min((h2 - h1) * 60 + (m2 - m1), (24 + h1 - h2) * 60 + (m1 - m2))\n",
    "    else:\n",
    "        return min((h1 - h2) * 60 + (m1 - m2), (24 + h2 - h1) * 60 + (m2 - m1))\n",
    "\n",
    "def cmp_times(time1, time2):\n",
    "    h1, m1, = int(time1[:2]), int(time1[3:])\n",
    "    h2, m2, = int(time2[:2]), int(time2[3:])\n",
    "    return 1 if ((h1 == h2 and m1 > m2) or h1 > h2) else -1 \n",
    "\n",
    "def  getMinTimeDifference( times):\n",
    "    times.sort(cmp_times)\n",
    "    print times\n",
    "    min_seen = 60 * 24\n",
    "    size = len(times)\n",
    "    for i in range(size):\n",
    "        j = (i - 1) % size\n",
    "        d = diff(times[i], times[j])\n",
    "        min_seen = min(min_seen, d)\n",
    "    return min_seen\n",
    "\n",
    "times = ['23:05', '08:55', '05:30', '06:50', '00:05']\n",
    "print getMinTimeDifference(times)"
   ]
  },
  {
   "cell_type": "code",
   "execution_count": 60,
   "metadata": {
    "collapsed": false
   },
   "outputs": [
    {
     "name": "stdout",
     "output_type": "stream",
     "text": [
      "['K', 'S', 'M']\n"
     ]
    }
   ],
   "source": [
    "def  getSuspiciousList(transactions):\n",
    "    seen_name = {}\n",
    "    seen_fraud = {}\n",
    "    size = len(transactions)\n",
    "    fraud = [None] * size\n",
    "    for i in range(size):\n",
    "        name, amt, loc, time = transactions[i].split('|')\n",
    "        amt, time = int(amt), int(time)\n",
    "        if amt > 3000 and name not in seen_fraud:\n",
    "            fraud[i] = name\n",
    "            seen_fraud[name] = True\n",
    "        else:\n",
    "            if name in seen_name:\n",
    "                last_idx, last_time, last_loc = seen_name[name]\n",
    "                if (time - last_time) <= 60 and loc != last_loc:\n",
    "                    fraud[last_idx] = name\n",
    "                    seen_fraud[name] = True\n",
    "        seen_name[name] = i, time, loc\n",
    "    fraud = filter(lambda x: x, fraud)\n",
    "    return fraud\n",
    "\n",
    "transactions = [\n",
    "    'S|500|C|63',\n",
    "    'T|25|N|615',\n",
    "    'K|9000|C|1230',\n",
    "    'S|50|M|1300',\n",
    "    'M|10000|G|1305',\n",
    "    'S|50|C|1350'\n",
    "]\n",
    "\n",
    "print getSuspiciousList(transactions)"
   ]
  },
  {
   "cell_type": "code",
   "execution_count": 30,
   "metadata": {
    "collapsed": false
   },
   "outputs": [
    {
     "name": "stdout",
     "output_type": "stream",
     "text": [
      "cat 0\n",
      "aat 1\n",
      "cat 1\n",
      "bat 1\n",
      "cat 1\n",
      "dat 1\n",
      "cat 1\n",
      "eat 1\n",
      "cat 1\n",
      "fat 1\n",
      "cat 1\n",
      "gat 1\n",
      "cat 1\n",
      "hat 1\n",
      "cat 1\n",
      "iat 1\n",
      "cat 1\n",
      "jat 1\n",
      "cat 1\n",
      "kat 1\n",
      "cat 1\n",
      "lat 1\n",
      "cat 1\n",
      "mat 1\n",
      "cat 1\n",
      "nat 1\n",
      "cat 1\n",
      "oat 1\n",
      "cat 1\n",
      "pat 1\n",
      "cat 1\n",
      "qat 1\n",
      "cat 1\n",
      "rat 1\n",
      "cat 1\n",
      "sat 1\n",
      "cat 1\n",
      "tat 1\n",
      "cat 1\n",
      "uat 1\n",
      "cat 1\n",
      "vat 1\n",
      "cat 1\n",
      "wat 1\n",
      "cat 1\n",
      "xat 1\n",
      "cat 1\n",
      "yat 1\n",
      "cat 1\n",
      "zat 1\n",
      "cat 1\n",
      "0\n"
     ]
    }
   ],
   "source": [
    "import string\n",
    "letters = list(string.ascii_lowercase)\n",
    "words = (word.strip() for word in open(\"/usr/share/dict/words\"))\n",
    "seen = {}\n",
    "\n",
    "def alter_word(word, i, size, target):\n",
    "    print word, i\n",
    "    if i == size or word not in words:\n",
    "        return 0\n",
    "    if word in seen:\n",
    "        return seen[word]\n",
    "    if word == target:\n",
    "        return 1\n",
    "    seen[word] = 0\n",
    "    min_seen = float(\"inf\")\n",
    "    curr = word[i]\n",
    "    for char in letters:\n",
    "        if char != curr:\n",
    "            new_word = word[:i] + char + word[i + 1:]\n",
    "            change = 1 + alter_word(new_word, i + 1, size, target)\n",
    "            no_change = alter_word(word, i + 1, size, target)\n",
    "            if change < min_seen:\n",
    "                min_seen = change\n",
    "            if no_change < min_seen:\n",
    "                min_seen = no_change\n",
    "    seen[word] = min_seen\n",
    "    return min_seen\n",
    "\n",
    "print alter_word('cat', 0, 3, 'dog')"
   ]
  },
  {
   "cell_type": "code",
   "execution_count": null,
   "metadata": {
    "collapsed": true
   },
   "outputs": [],
   "source": [
    "a = [1,2,5,3,-7,-4,2,1,2,5,10,14,17] # return 5\n",
    "b = [1,2,1] # return 1\n",
    "c = [1,2,3,4] # return None\n",
    "\n",
    "def last_dup(arr):\n",
    "    dup = None\n",
    "    seen = {}\n",
    "    for elm in arr:\n",
    "        if elm in seen:\n",
    "            dup = elm\n",
    "        else:\n",
    "            seen[elm] = 1\n",
    "    return dup\n",
    "    \n",
    "print last_dup(a)\n",
    "print last_dup(b)\n",
    "print last_dup(c)"
   ]
  },
  {
   "cell_type": "code",
   "execution_count": null,
   "metadata": {
    "collapsed": true
   },
   "outputs": [],
   "source": [
    "## This is the text editor interface. \n",
    "## Anything you type or change here will be seen by the other person in real time.\n",
    "\n",
    "# adorne@palantir.com\n",
    "\n",
    "class World:\n",
    "    seen = {}\n",
    "    \n",
    "    world_map = [[0,1,3,2,0,3],\n",
    "                 [0,0,4,0,0,2],\n",
    "                 [1,0,0,0,0,4],\n",
    "                 [2,0,0,0,0,0],\n",
    "                 [0,1,0,2,0,0],\n",
    "                 [0,0,4,0,1,0]]\n",
    "    \n",
    "    def inBounds(self, i, j):\n",
    "        size = len(self.world_map) \n",
    "        return 0 <= i < size and 0 <= j < size\n",
    "                 \n",
    "    def getIslandVal(self, i, j):\n",
    "        if not inBounds(self, i, j):\n",
    "            return 0\n",
    "        val = 0\n",
    "        for dx in [-1, 0, 1]:\n",
    "            for dy in [-1, 0, 1]:\n",
    "                if dx == 0 and dy == 0:\n",
    "                    continue\n",
    "                val += getIslandVal(self, i + dx, j + dy)\n",
    "        return val\n",
    "                 \n",
    "    def mostValuableIsland(self):\n",
    "        mostVal = 0\n",
    "        size = len(self.world_map)\n",
    "        for i in size:\n",
    "            for j in size:\n",
    "                if (i, j) not in self.seen:\n",
    "                    val = getIslandVal(i, j)\n",
    "                    mostVal = max(mostVal, val)\n",
    "                else:\n",
    "                    self.seen[(i, j)] = 1\n",
    "        return mostVal\n",
    "        "
   ]
  },
  {
   "cell_type": "code",
   "execution_count": 10,
   "metadata": {
    "collapsed": false
   },
   "outputs": [],
   "source": [
    "def max_subarray(arr):\n",
    "    size = len(arr)\n",
    "    max_seen = 0\n",
    "    max_running = 0\n",
    "    for elm in arr:\n",
    "        max_running = max(max_running + elm, elm)\n",
    "        max_seen = max(max_running, max_seen)\n",
    "    return max_seen\n",
    "\n",
    "# print max_subarray([1, 2, 3, -100, 500, -100, 200])"
   ]
  },
  {
   "cell_type": "code",
   "execution_count": null,
   "metadata": {
    "collapsed": true
   },
   "outputs": [],
   "source": []
  }
 ],
 "metadata": {
  "kernelspec": {
   "display_name": "Python 2",
   "language": "python",
   "name": "python2"
  },
  "language_info": {
   "codemirror_mode": {
    "name": "ipython",
    "version": 2
   },
   "file_extension": ".py",
   "mimetype": "text/x-python",
   "name": "python",
   "nbconvert_exporter": "python",
   "pygments_lexer": "ipython2",
   "version": "2.7.10"
  }
 },
 "nbformat": 4,
 "nbformat_minor": 0
}
