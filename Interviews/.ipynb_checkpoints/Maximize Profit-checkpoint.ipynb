{
 "cells": [
  {
   "cell_type": "markdown",
   "metadata": {},
   "source": [
    "## Question\n",
    "Given an array with closing prices of a stock, find the maximum profit that can be earned by buying on one date and selling at a later date. \n",
    "#### Restrictions\n",
    "* You can make only one transaction (i.e. buy and sell once)\n",
    "* You can't short sell (i.e. sell before you buy)"
   ]
  },
  {
   "cell_type": "code",
   "execution_count": 1,
   "metadata": {
    "collapsed": true
   },
   "outputs": [],
   "source": [
    "dummy_prices = [100, 180, 260, 310, 40, 535, 695]"
   ]
  },
  {
   "cell_type": "markdown",
   "metadata": {},
   "source": [
    "The brute force solution is to try every possible buy and sell date."
   ]
  },
  {
   "cell_type": "code",
   "execution_count": 2,
   "metadata": {
    "collapsed": false
   },
   "outputs": [
    {
     "name": "stdout",
     "output_type": "stream",
     "text": [
      "Maximum profit: $655.00\n",
      "Buy at $40.00 and sell at $695.00\n"
     ]
    }
   ],
   "source": [
    "def max_profit_slow(prices):\n",
    "    '''O(n^2) soluton that goes through every possible buy and sell date'''\n",
    "    max_profit_seen = 0\n",
    "    best_buy_price, best_sell_price = 0, 0\n",
    "    \n",
    "    for buy_date in prices:\n",
    "        for sell_date in prices:\n",
    "            profit = sell_date - buy_date\n",
    "            # update maximum profit seen\n",
    "            if profit > max_profit_seen: \n",
    "                max_profit_seen = profit\n",
    "                best_buy_price = buy_date\n",
    "                best_sell_price = sell_date              \n",
    "    return max_profit_seen, best_buy_price, best_sell_price\n",
    "\n",
    "profit, buy_price, sell_price = max_profit_slow(dummy_prices)\n",
    "print \"Maximum profit: $%.2f\\nBuy at $%.2f and sell at $%.2f\" % (profit, buy_price, sell_price)"
   ]
  },
  {
   "cell_type": "markdown",
   "metadata": {},
   "source": [
    "However, we can do better by thinking \"If I were to sell today, when would have been the best date for me to by?\". It's the date in the past with the minimum price. So, we can keep track of the minimum (which is our buying price) and while going through the array consider each date as a possible sell date. This way we can get the maximum profit in linear time."
   ]
  },
  {
   "cell_type": "code",
   "execution_count": 3,
   "metadata": {
    "collapsed": false
   },
   "outputs": [
    {
     "name": "stdout",
     "output_type": "stream",
     "text": [
      "Maximum profit: $655.00\n",
      "Buy at $40.00 and sell at $695.00\n"
     ]
    }
   ],
   "source": [
    "def max_profit_fast(prices):\n",
    "    max_profit_seen = 0\n",
    "    min_price_seen = float(\"inf\")\n",
    "    best_buy_price, best_sell_price = 0, 0\n",
    "    \n",
    "    for sell_date in prices:\n",
    "        # update minimum price seen\n",
    "        min_price_seen = min(min_price_seen, sell_date)\n",
    "        profit = sell_date - min_price_seen\n",
    "        # update maximum profit seen\n",
    "        if profit > max_profit_seen: \n",
    "            max_profit_seen = profit\n",
    "            best_buy_price = min_price_seen\n",
    "            best_sell_price = sell_date   \n",
    "    return max_profit_seen, best_buy_price, best_sell_price\n",
    "\n",
    "profit, buy_price, sell_price = max_profit_fast(dummy_prices)\n",
    "print \"Maximum profit: $%.2f\\nBuy at $%.2f and sell at $%.2f\" % (profit, buy_price, sell_price)"
   ]
  }
 ],
 "metadata": {
  "kernelspec": {
   "display_name": "Python 2",
   "language": "python",
   "name": "python2"
  },
  "language_info": {
   "codemirror_mode": {
    "name": "ipython",
    "version": 2
   },
   "file_extension": ".py",
   "mimetype": "text/x-python",
   "name": "python",
   "nbconvert_exporter": "python",
   "pygments_lexer": "ipython2",
   "version": "2.7.11"
  }
 },
 "nbformat": 4,
 "nbformat_minor": 0
}
