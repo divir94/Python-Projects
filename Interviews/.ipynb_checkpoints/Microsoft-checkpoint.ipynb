{
 "cells": [
  {
   "cell_type": "markdown",
   "metadata": {},
   "source": [
    "##Check If HTML is Valid i.e. every opening tag has a closing tag"
   ]
  },
  {
   "cell_type": "code",
   "execution_count": 84,
   "metadata": {
    "collapsed": false
   },
   "outputs": [],
   "source": [
    "valid_html = '''\n",
    "<html>\n",
    "    <head>\n",
    "        <title style=''>Page Title</title>\n",
    "    </head>\n",
    "    <body>\n",
    "        <h1>This is a Heading</h1>\n",
    "        <p>This is a paragraph.</p>\n",
    "    </body>\n",
    "</html>\n",
    "'''\n",
    "\n",
    "invalid_html = '''\n",
    "<html>\n",
    "    <head>\n",
    "        <title style=''>Page Title</title>\n",
    "    </head>\n",
    "    <body>\n",
    "        <h1>This is a Heading</h1>\n",
    "        <p>This is a paragraph.</p>\n",
    "        <a>Not valid</p>\n",
    "    </body>\n",
    "</html>\n",
    "'''"
   ]
  },
  {
   "cell_type": "code",
   "execution_count": 85,
   "metadata": {
    "collapsed": false
   },
   "outputs": [
    {
     "name": "stdout",
     "output_type": "stream",
     "text": [
      "True\n",
      "False\n"
     ]
    }
   ],
   "source": [
    "import re\n",
    "\n",
    "def is_valid_html(html):\n",
    "    pattern = re.compile(\"<.*?>\")\n",
    "    tags = re.findall(pattern, html)\n",
    "\n",
    "    stack = []\n",
    "    for tag in tags:\n",
    "        # look for backslash\n",
    "        is_closing = tag[1] == \"/\" \n",
    "        if is_closing:\n",
    "            last_tag = stack[-1]\n",
    "            # if last tag in the stack is a closing one, then our HTML is invalid\n",
    "            if last_tag[1] == \"/\":\n",
    "                return False\n",
    "            # get the current and last tag names\n",
    "            pat = re.compile(\"([^/<\\s>]+)\")\n",
    "            tag_name = re.findall(pat, tag)[0]\n",
    "            last_tag_name = re.findall(pat, last_tag)[0]\n",
    "            # if tag names are the same, remove from stack\n",
    "            if tag_name == last_tag_name:\n",
    "                stack.pop()\n",
    "        else:\n",
    "            # add tag to stack\n",
    "            stack.append(tag)\n",
    "    # if stack is empty, we've matched all tags\n",
    "    return False if stack else True\n",
    "            \n",
    "print is_valid_html(valid_html)\n",
    "print is_valid_html(invalid_html)"
   ]
  },
  {
   "cell_type": "code",
   "execution_count": null,
   "metadata": {
    "collapsed": true
   },
   "outputs": [],
   "source": []
  }
 ],
 "metadata": {
  "kernelspec": {
   "display_name": "Python 2",
   "language": "python",
   "name": "python2"
  },
  "language_info": {
   "codemirror_mode": {
    "name": "ipython",
    "version": 2
   },
   "file_extension": ".py",
   "mimetype": "text/x-python",
   "name": "python",
   "nbconvert_exporter": "python",
   "pygments_lexer": "ipython2",
   "version": "2.7.10"
  }
 },
 "nbformat": 4,
 "nbformat_minor": 0
}
