{
 "cells": [
  {
   "cell_type": "code",
   "execution_count": null,
   "metadata": {
    "collapsed": true
   },
   "outputs": [],
   "source": [
    "import numpy as np\n",
    "\n",
    "def main_seq(A):\n",
    "    for i, row in enumerate(A):\n",
    "        for j, elem in enumerate(row):\n",
    "            if (i, j) in d:\n",
    "                pass\n",
    "            else:\n",
    "                d[(i, j)] = seq(i, j)\n",
    "    print d\n",
    "\n",
    "def seq(i, j):\n",
    "    if (i, j) in d:\n",
    "        return d[i, j]\n",
    "    elif i == (N - 1) and j == (M - 1):\n",
    "        res = 1\n",
    "    elif i == (N - 1):\n",
    "        res = 1 + seq(i, j + 1)\n",
    "    elif j == (M - 1):\n",
    "        res = 1 + seq(i + 1, j)\n",
    "    else:\n",
    "        res = 1 + max(seq(i, j + 1), seq(i + 1, j))\n",
    "    d[(i, j)] = res\n",
    "    return res"
   ]
  },
  {
   "cell_type": "code",
   "execution_count": 1,
   "metadata": {
    "collapsed": false
   },
   "outputs": [
    {
     "name": "stdout",
     "output_type": "stream",
     "text": [
      "{1: 2}\n"
     ]
    }
   ],
   "source": [
    "d = {}\n"
   ]
  },
  {
   "cell_type": "code",
   "execution_count": null,
   "metadata": {
    "collapsed": true
   },
   "outputs": [],
   "source": []
  }
 ],
 "metadata": {
  "kernelspec": {
   "display_name": "Python 2",
   "language": "python",
   "name": "python2"
  },
  "language_info": {
   "codemirror_mode": {
    "name": "ipython",
    "version": 2
   },
   "file_extension": ".py",
   "mimetype": "text/x-python",
   "name": "python",
   "nbconvert_exporter": "python",
   "pygments_lexer": "ipython2",
   "version": "2.7.10"
  }
 },
 "nbformat": 4,
 "nbformat_minor": 0
}
