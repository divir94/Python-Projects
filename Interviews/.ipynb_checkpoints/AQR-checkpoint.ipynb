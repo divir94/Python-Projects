{
 "cells": [
  {
   "cell_type": "code",
   "execution_count": 23,
   "metadata": {
    "collapsed": false
   },
   "outputs": [
    {
     "name": "stdout",
     "output_type": "stream",
     "text": [
      "AAB\n"
     ]
    }
   ],
   "source": [
    "def get_char(num):\n",
    "    return chr(ord(\"A\") + num - 1)\n",
    "\n",
    "def convert(num):\n",
    "    if num < 27:\n",
    "        return get_char(num)\n",
    "    last = num % 26 # \"B\"\n",
    "    div = num / 26 # \"1\"\n",
    "    if div > 26:\n",
    "        first = convert(div) # \"AA\"\n",
    "    else:\n",
    "        first = get_char(div) # \"A\"\n",
    "    return first + get_char(last) # \"A\" + \"B\"\n",
    "\n",
    "print convert(704)\n",
    "#get_char(26)"
   ]
  },
  {
   "cell_type": "code",
   "execution_count": 69,
   "metadata": {
    "collapsed": false
   },
   "outputs": [],
   "source": [
    "# Consider a binary search tree, BST, where the left child node is less than the parent node and the\n",
    "# right node is greater than the parent node. A post order traversal will visit the left child,\n",
    "# the right child, and finally the parent.\n",
    "\n",
    "# e.g.       -6-\n",
    "#           /   \\\n",
    "#          3     8\n",
    "#         / \\     \\\n",
    "#        1   5     10\n",
    "#           /\n",
    "#          4\n",
    "          \n",
    "# Post order: 1, 4, 5, 3, 10, 8, 6          \n",
    "          \n",
    "# e.g.      6\n",
    "#          / \\\n",
    "#         3   8\n",
    "#        /   / \\\n",
    "#       2   7   10\n",
    "#      /       /\n",
    "#     1       9  \n",
    "          \n",
    "# Post order: 1, 2, 3, 7, 9, 10, 8, 6          \n",
    "\n",
    "# Develop the data model to represent the BST and also a function that returns a post order array of \n",
    "# a given BST    \n",
    "\n",
    "# 1, 4, 5, 3, 10, 8, 6  \n",
    "def partition(arr):\n",
    "    new_arr = arr[:-1]\n",
    "    node = arr[-1]\n",
    "    if new_arr == None:\n",
    "        return Node(node), [], []\n",
    "      \n",
    "    child_size = len(new_arr)\n",
    "    # find right subtree\n",
    "    i = child_size -1\n",
    "    while new_arr[i] > node:\n",
    "        i -= 1\n",
    "    right = new_arr[i:]\n",
    "    left = new_arr[:i]      \n",
    "    return Node(node), left, right     \n",
    "\n",
    "def post_order(arr):\n",
    "    if arr == None:\n",
    "        return arr\n",
    "    node, left, right = partition(arr)\n",
    "    node.left = post_order(left)\n",
    "    node.right = post_order(right)\n",
    "    return node"
   ]
  },
  {
   "cell_type": "code",
   "execution_count": 71,
   "metadata": {
    "collapsed": false
   },
   "outputs": [
    {
     "name": "stdout",
     "output_type": "stream",
     "text": [
      "Node: [6]\n",
      "Left tree: [1, 2, 3]\n",
      "Right tree: [7, 9, 10, 8]\n"
     ]
    }
   ],
   "source": [
    "def partition(arr):\n",
    "    first, last = arr[0], arr[-1]\n",
    "    size = len(arr)\n",
    "    \n",
    "    # Base cases\n",
    "    if size <= 1: return arr, [], []\n",
    "    elif size == 2: return (last, first, []) if (first < last) else (last, [], first)\n",
    "    \n",
    "    # Binary search\n",
    "    i, j = 0, size - 2\n",
    "    while abs(i - j) > 1:\n",
    "        mid = (i + j) / 2\n",
    "        i, j = (mid, j) if arr[mid] < last else (i, mid)\n",
    "    return [last], arr[:i + 1], arr[j:-1]\n",
    "    \n",
    "arr1 = [1, 4, 5, 3, 10, 8, 6]\n",
    "arr2 = [1, 2, 3, 7, 9, 10, 8, 6]\n",
    "arr3 = [4, 3]\n",
    "node, left, right = partition(arr2)\n",
    "print \"Node: %s\\nLeft tree: %s\\nRight tree: %s\" % (str(node), str(left), str(right))"
   ]
  },
  {
   "cell_type": "code",
   "execution_count": null,
   "metadata": {
    "collapsed": true
   },
   "outputs": [],
   "source": []
  }
 ],
 "metadata": {
  "kernelspec": {
   "display_name": "Python 2",
   "language": "python",
   "name": "python2"
  },
  "language_info": {
   "codemirror_mode": {
    "name": "ipython",
    "version": 2
   },
   "file_extension": ".py",
   "mimetype": "text/x-python",
   "name": "python",
   "nbconvert_exporter": "python",
   "pygments_lexer": "ipython2",
   "version": "2.7.10"
  }
 },
 "nbformat": 4,
 "nbformat_minor": 0
}
