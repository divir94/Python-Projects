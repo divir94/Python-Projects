{
 "cells": [
  {
   "cell_type": "markdown",
   "metadata": {},
   "source": [
    "##Check If HTML is Valid i.e. every opening tag has a closing tag"
   ]
  },
  {
   "cell_type": "code",
   "execution_count": 80,
   "metadata": {
    "collapsed": false
   },
   "outputs": [
    {
     "ename": "SyntaxError",
     "evalue": "invalid syntax (<ipython-input-80-b6fedb76655d>, line 1)",
     "output_type": "error",
     "traceback": [
      "\u001b[0;36m  File \u001b[0;32m\"<ipython-input-80-b6fedb76655d>\"\u001b[0;36m, line \u001b[0;32m1\u001b[0m\n\u001b[0;31m    valid_html =\u001b[0m\n\u001b[0m                 ^\u001b[0m\n\u001b[0;31mSyntaxError\u001b[0m\u001b[0;31m:\u001b[0m invalid syntax\n"
     ]
    }
   ],
   "source": [
    "valid_html = \n",
    "'''\n",
    "<html>\n",
    "    <head>\n",
    "        <title style=''>Page Title</title>\n",
    "    </head>\n",
    "    <body>\n",
    "        <h1>This is a Heading</h1>\n",
    "        <p>This is a paragraph.</p>\n",
    "    </body>\n",
    "</html>\n",
    "'''\n",
    "\n",
    "invalid_html = \n",
    "'''\n",
    "<html>\n",
    "    <head>\n",
    "        <title style=''>Page Title</title>\n",
    "    </head>\n",
    "    <body>\n",
    "        <h1>This is a Heading</h1>\n",
    "        <p>This is a paragraph.</p>\n",
    "        <a>Not valid</p>\n",
    "    </body>\n",
    "</html>\n",
    "'''"
   ]
  },
  {
   "cell_type": "code",
   "execution_count": 81,
   "metadata": {
    "collapsed": false
   },
   "outputs": [
    {
     "ename": "NameError",
     "evalue": "name 'valid_html' is not defined",
     "output_type": "error",
     "traceback": [
      "\u001b[0;31m---------------------------------------------------------------------------\u001b[0m",
      "\u001b[0;31mNameError\u001b[0m                                 Traceback (most recent call last)",
      "\u001b[0;32m<ipython-input-81-070b2fc35543>\u001b[0m in \u001b[0;36m<module>\u001b[0;34m()\u001b[0m\n\u001b[1;32m     27\u001b[0m     \u001b[0;32mreturn\u001b[0m \u001b[0mFalse\u001b[0m \u001b[0;32mif\u001b[0m \u001b[0mstack\u001b[0m \u001b[0;32melse\u001b[0m \u001b[0mTrue\u001b[0m\u001b[0;34m\u001b[0m\u001b[0m\n\u001b[1;32m     28\u001b[0m \u001b[0;34m\u001b[0m\u001b[0m\n\u001b[0;32m---> 29\u001b[0;31m \u001b[0;32mprint\u001b[0m \u001b[0mis_valid_html\u001b[0m\u001b[0;34m(\u001b[0m\u001b[0mvalid_html\u001b[0m\u001b[0;34m)\u001b[0m\u001b[0;34m\u001b[0m\u001b[0m\n\u001b[0m\u001b[1;32m     30\u001b[0m \u001b[0;32mprint\u001b[0m \u001b[0mis_valid_html\u001b[0m\u001b[0;34m(\u001b[0m\u001b[0minvalid_html\u001b[0m\u001b[0;34m)\u001b[0m\u001b[0;34m\u001b[0m\u001b[0m\n",
      "\u001b[0;31mNameError\u001b[0m: name 'valid_html' is not defined"
     ]
    }
   ],
   "source": [
    "import re\n",
    "\n",
    "def is_valid_html(html):\n",
    "    pattern = re.compile(\"<.*?>\")\n",
    "    tags = re.findall(pattern, html)\n",
    "\n",
    "    stack = []\n",
    "    for tag in tags:\n",
    "        # look for backslash\n",
    "        is_closing = tag[1] == \"/\" \n",
    "        if is_closing:\n",
    "            last_tag = stack[-1]\n",
    "            # if last tag in the stack is a closing one, then our HTML is invalid\n",
    "            if last_tag[1] == \"/\":\n",
    "                return False\n",
    "            # get the current and last tag names\n",
    "            pat = re.compile(\"([^/<\\s>]+)\")\n",
    "            tag_name = re.findall(pat, tag)[0]\n",
    "            last_tag_name = re.findall(pat, last_tag)[0]\n",
    "            # if tag names are the same, remove from stack\n",
    "            if tag_name == last_tag_name:\n",
    "                stack.pop()\n",
    "        else:\n",
    "            # add tag to stack\n",
    "            stack.append(tag)\n",
    "    # if stack is empty, we've matched all tags\n",
    "    return False if stack else True\n",
    "            \n",
    "print is_valid_html(valid_html)\n",
    "print is_valid_html(invalid_html)"
   ]
  },
  {
   "cell_type": "code",
   "execution_count": null,
   "metadata": {
    "collapsed": true
   },
   "outputs": [],
   "source": []
  }
 ],
 "metadata": {
  "kernelspec": {
   "display_name": "Python 2",
   "language": "python",
   "name": "python2"
  },
  "language_info": {
   "codemirror_mode": {
    "name": "ipython",
    "version": 2
   },
   "file_extension": ".py",
   "mimetype": "text/x-python",
   "name": "python",
   "nbconvert_exporter": "python",
   "pygments_lexer": "ipython2",
   "version": "2.7.10"
  }
 },
 "nbformat": 4,
 "nbformat_minor": 0
}
