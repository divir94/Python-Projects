{
 "cells": [
  {
   "cell_type": "code",
   "execution_count": 184,
   "metadata": {
    "collapsed": false
   },
   "outputs": [],
   "source": [
    "import numpy as np\n",
    "\n",
    "def my_dot(A, B):\n",
    "    return sum(a * b for a, b in zip(A, B))\n",
    "    \n",
    "def multiply_matrices(A, B):\n",
    "    n1, m1 = A.shape\n",
    "    n2, m2 = B.shape\n",
    "    if m1 != n2:\n",
    "        return \"Number of columns of A must match number of rows of B\"\n",
    "    C = np.empty((n1, m2))\n",
    "    for i in xrange(n1):\n",
    "        for j in xrange(m2):\n",
    "            C[i, j] = my_dot(A[i, :], B[:, j])\n",
    "    return C            \n",
    "    \n",
    "A = np.random.randint(10, size=(2, 4))\n",
    "B = np.random.randint(10, size=(4, 3))\n",
    "C = multiply_matrices(A, B)\n",
    "# print C\n",
    "# print np.dot(A, B)"
   ]
  },
  {
   "cell_type": "code",
   "execution_count": 183,
   "metadata": {
    "collapsed": false
   },
   "outputs": [],
   "source": [
    "def print_spiral(M):\n",
    "    n, m = M.shape\n",
    "    i, j = 0, 0\n",
    "    dx, dy = 0, 1\n",
    "    count = 0\n",
    "    seen = {}\n",
    "    while count < m*n:\n",
    "        new_i, new_j = i + dx, j + dy\n",
    "        print M[i][j]\n",
    "        count += 1\n",
    "        dx, dy = (dx, dy) if (0 <= new_i < n and 0 <= new_j < m and (new_i, new_j) not in seen) else (dy, -dx)\n",
    "        seen[(i, j)] = True\n",
    "        i, j = i + dx, j + dy\n",
    "            \n",
    "M = np.random.randint(10, size=(4, 4))          \n",
    "# print M\n",
    "# print_spiral(M)"
   ]
  },
  {
   "cell_type": "code",
   "execution_count": 3,
   "metadata": {
    "collapsed": false
   },
   "outputs": [
    {
     "name": "stdout",
     "output_type": "stream",
     "text": [
      "A: [1, 2, 7, 3, 4, 5]\n",
      "Memo: [1, 2, 3, 3, 4, 5]\n",
      "5\n"
     ]
    }
   ],
   "source": [
    "# This is does not work for [1, 2, 7, 3, 4, 5]\n",
    "def longest_subseq_wrong(A):\n",
    "    size = len(A)\n",
    "    memo = [(None, None)] * size\n",
    "    if size == 0:\n",
    "        return 0\n",
    "    memo[0] = (A[0], 1)\n",
    "    for i in xrange(1, size):\n",
    "        last_elm, last_size = memo[i - 1]\n",
    "        memo[i] = (A[i], last_size + 1) if A[i] > last_elm else (last_elm, last_size)\n",
    "    return memo[-1][-1]\n",
    "\n",
    "def longest_subseq(A):\n",
    "    size = len(A)\n",
    "    memo = [None] * size\n",
    "    memo[0] = 1\n",
    "    for i in xrange(1, size):\n",
    "        max_seen = 0\n",
    "        for j in xrange(i):\n",
    "            if memo[j] > max_seen and A[j] < A[i]:\n",
    "                max_seen = memo[j]\n",
    "        memo[i] = 1 + max_seen\n",
    "    print \"A: %s\" % str(A)\n",
    "    print \"Memo: %s\" % str(memo)\n",
    "    return memo[-1]\n",
    "\n",
    "A = [2, 1, 5, 6, 7, 3, 9]\n",
    "B = [10, 22, 9, 33, 21, 50, 41, 60, 80]\n",
    "C = [1, 2, 7, 3, 4, 5]\n",
    "print longest_subseq(C)"
   ]
  },
  {
   "cell_type": "code",
   "execution_count": 255,
   "metadata": {
    "collapsed": false
   },
   "outputs": [],
   "source": [
    "class Polynomial:\n",
    "    def __init__(self, coefs):\n",
    "        self.coefs = coefs\n",
    "        self.degree = len(coefs)\n",
    "        \n",
    "    def derivative(self):\n",
    "        coefs = [c * (self.degree - i - 1) for i, c in enumerate(self.coefs[:-1])]\n",
    "        res = Polynomial(coefs)\n",
    "        return res\n",
    "    \n",
    "    def add(self, other):\n",
    "        n1, n2 = self.degree, other.degree\n",
    "        coefs1, coefs2 = self.coefs, other.coefs\n",
    "        if n1 < n2:\n",
    "            coefs1 = [0] * (n2 - n1) + coefs1\n",
    "        elif n1 > n2:\n",
    "            coefs2 = [0] * (n1 - n2) + coefs2\n",
    "        coefs = [c1 + c2 for c1, c2 in zip(coefs1, coefs2)]\n",
    "        return Polynomial(coefs)   \n",
    "    \n",
    "    def multiply(self, other):\n",
    "        res = Polynomial([])\n",
    "        for i, c1 in enumerate(reversed(other.coefs)):\n",
    "            coefs = [c1 * c2 for c2 in self.coefs] + [0] * i\n",
    "            res += Polynomial(coefs)\n",
    "        return res\n",
    "    \n",
    "    def __add__(self, other):\n",
    "        return self.add(other)\n",
    "    \n",
    "    def __mul__(self, other):\n",
    "        return self.multiply(other)\n",
    "    \n",
    "    def __str__(self):\n",
    "        res = \"\"\n",
    "        n = len(self.coefs)\n",
    "        for i, c in enumerate(self.coefs):\n",
    "            res += \"%d*x^%d + \" % (c, n - i - 1) if (i < n - 1) else \"%d\" % c\n",
    "        return res\n",
    "        \n",
    "p1 = Polynomial([3, 6, 3])\n",
    "p2 = Polynomial([2, 4])\n",
    "# print p1 * p2"
   ]
  },
  {
   "cell_type": "code",
   "execution_count": 256,
   "metadata": {
    "collapsed": true
   },
   "outputs": [],
   "source": [
    "def str_to_int(inp):\n",
    "    n = len(inp)\n",
    "    return sum((ord(d) - ord('0'))*(10**(n - i - 1)) for i, d in enumerate(inp))\n",
    "\n",
    "# print str_to_int('1673')"
   ]
  },
  {
   "cell_type": "code",
   "execution_count": 141,
   "metadata": {
    "collapsed": false
   },
   "outputs": [
    {
     "name": "stdout",
     "output_type": "stream",
     "text": [
      "seleteles\n"
     ]
    }
   ],
   "source": [
    "import numpy as np\n",
    "\n",
    "def longest_palindrome(inp):\n",
    "    size = len(inp)\n",
    "    memo = np.zeros((size, size))\n",
    "    for i in reversed(xrange(size)):\n",
    "        for j in xrange(i, size):\n",
    "            if inp[i] == inp[j]:\n",
    "                memo[i, j] = 1 if i == j else memo[i + 1, j - 1] + 2\n",
    "            else:\n",
    "                memo[i, j] = max(memo[i + 1, j], memo[i, j - 1])\n",
    "    return memo\n",
    "\n",
    "def get_palindrome(inp, memo):\n",
    "    size = len(memo)\n",
    "    indices = set()\n",
    "    i, j = [0, size - 1]\n",
    "    val = memo[i, j]\n",
    "    while val > 0:\n",
    "        left, diag, down = memo[i, j - 1], memo[i + 1, j - 1], memo[i + 1, j]\n",
    "        if diag >= left and diag >= down:\n",
    "            if val > diag:\n",
    "                indices.update([i, j])\n",
    "            val = diag\n",
    "            i, j = i + 1, j - 1\n",
    "        elif left >= down:\n",
    "            if left < val:\n",
    "                indices.update([i, j])\n",
    "            val = left\n",
    "            i, j = i, j - 1\n",
    "        else:\n",
    "            if down < val:\n",
    "                indices.update([i, j])\n",
    "            val = down\n",
    "            i, j = i + 1, j\n",
    "    char_array = np.array([c for c in inp])\n",
    "    indices = np.array(list(indices))\n",
    "    indices.sort()\n",
    "    chars = char_array[indices]\n",
    "    palindrome = ''.join(chars)\n",
    "    return palindrome\n",
    "        \n",
    "#inp = 'raccecar'\n",
    "inp = 'simply delete letters'\n",
    "memo = longest_palindrome(inp)\n",
    "print get_palindrome(inp, memo)"
   ]
  },
  {
   "cell_type": "code",
   "execution_count": 154,
   "metadata": {
    "collapsed": false
   },
   "outputs": [
    {
     "name": "stdout",
     "output_type": "stream",
     "text": [
      "5\n"
     ]
    }
   ],
   "source": [
    "def longest_palindrome(i, j):\n",
    "    if (i, j) in cache:\n",
    "        return cache[(i, j)]\n",
    "    if i == j:\n",
    "        return 1\n",
    "    elif i > j:\n",
    "        return 0\n",
    "    res = max(longest_palindrome(i + 1, match_prev(i, j)) + 2,\n",
    "              longest_palindrome(i + 1, j))\n",
    "    cache[(i, j)] = res\n",
    "    return res\n",
    "\n",
    "def match_prev(i, j):\n",
    "    for k in reversed(xrange(i, j + 1)):\n",
    "        if inp[k] == inp[i]:\n",
    "            return k - 1\n",
    "    return -1\n",
    "    \n",
    "inp = 'helyloe'\n",
    "cache = {}\n",
    "print longest_palindrome(0, len(inp) - 1)"
   ]
  },
  {
   "cell_type": "code",
   "execution_count": null,
   "metadata": {
    "collapsed": true
   },
   "outputs": [],
   "source": []
  }
 ],
 "metadata": {
  "kernelspec": {
   "display_name": "Python 2",
   "language": "python",
   "name": "python2"
  },
  "language_info": {
   "codemirror_mode": {
    "name": "ipython",
    "version": 2
   },
   "file_extension": ".py",
   "mimetype": "text/x-python",
   "name": "python",
   "nbconvert_exporter": "python",
   "pygments_lexer": "ipython2",
   "version": "2.7.10"
  }
 },
 "nbformat": 4,
 "nbformat_minor": 0
}
