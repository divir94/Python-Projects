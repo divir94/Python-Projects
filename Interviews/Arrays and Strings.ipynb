{
 "metadata": {
  "name": "",
  "signature": "sha256:6bc0563b517890724595696dac2e80939d1c34c6c0b4ae26745d919916cd1f2e"
 },
 "nbformat": 3,
 "nbformat_minor": 0,
 "worksheets": [
  {
   "cells": [
    {
     "cell_type": "markdown",
     "metadata": {},
     "source": [
      "### Unique Characters\n",
      "Determine if a string has all unique characters without using additional data structures."
     ]
    },
    {
     "cell_type": "code",
     "collapsed": false,
     "input": [
      "def unique_chars(str):\n",
      "    char_dict = {}\n",
      "    for char in str:\n",
      "        if char in char_dict: \n",
      "            return False\n",
      "        else: \n",
      "            char_dict[char] = 1\n",
      "    return True\n",
      "\n",
      "def unique_chars_test():\n",
      "    print unique_chars('ambulance') == False\n",
      "    print unique_chars('horse') == True\n",
      "    \n",
      "unique_chars_test()"
     ],
     "language": "python",
     "metadata": {},
     "outputs": [
      {
       "output_type": "stream",
       "stream": "stdout",
       "text": [
        "True\n",
        "True\n"
       ]
      }
     ],
     "prompt_number": 45
    },
    {
     "cell_type": "code",
     "collapsed": false,
     "input": [
      "ord('A')"
     ],
     "language": "python",
     "metadata": {},
     "outputs": [
      {
       "metadata": {},
       "output_type": "pyout",
       "prompt_number": 42,
       "text": [
        "65"
       ]
      }
     ],
     "prompt_number": 42
    },
    {
     "cell_type": "code",
     "collapsed": false,
     "input": [],
     "language": "python",
     "metadata": {},
     "outputs": []
    }
   ],
   "metadata": {}
  }
 ]
}