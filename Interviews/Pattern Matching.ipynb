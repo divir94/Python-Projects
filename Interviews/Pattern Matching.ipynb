{
 "metadata": {
  "name": "",
  "signature": "sha256:e0e344ed5a88a89bb6df44882efa003bc35c0517285be72bc57f10b46d4a1b5a"
 },
 "nbformat": 3,
 "nbformat_minor": 0,
 "worksheets": [
  {
   "cells": [
    {
     "cell_type": "code",
     "collapsed": false,
     "input": [
      "from collections import defaultdict as dd\n",
      "import random\n",
      "\n",
      "def recur(pat, string, translator, counts, orig=False):\n",
      "    #print \"func call\", pat, string, translator\n",
      "    #can compute remaining using counts\n",
      "    #print \"-\"*100\n",
      "    #print pat[0], translator\n",
      "    #assert pat[0] not in translator\n",
      "    remaining = sum((len(translator.get(x, \"a\")) for x in pat))-counts[pat[0]]\n",
      "    if len(string)-remaining<counts[pat[0]]:\n",
      "        return False\n",
      "    for i in range(1, len(string)-remaining+1):\n",
      "        #if orig:\n",
      "        #    print \"!\"*20, string[:i]\n",
      "        if len(string)-remaining-i*counts[pat[0]]<0:\n",
      "            #print \"broke\"\n",
      "            break\n",
      "        translator[pat[0]] = string[:i]\n",
      "        #if pat[0]==0:\n",
      "        #    print pat[0], string[:i], i, string, translator, \"!\"\n",
      "        curString = string[i:]\n",
      "        #print translator#\"pat[0]\", pat[0], \"val\", string[:i], \"str len\", len(string), \"remaining\", remaining, \"str\", string\n",
      "        for curIndex, x in list(enumerate(pat))[1:]:\n",
      "            if x not in translator:\n",
      "                #print \"a\", pat[1:], curString, translator, counts\n",
      "                res, _translator = recur(pat[curIndex:], curString, translator, counts)\n",
      "                #print \"b\", res, pat[1:], curString, translator, counts\n",
      "                if res:\n",
      "                    return True, translator\n",
      "                else:\n",
      "                    break\n",
      "            else:\n",
      "                translation = translator[x]\n",
      "                #print curString[:len(translation)], translation, curString[:len(translation)]==translation\n",
      "                if curString[:len(translation)]!=translation:\n",
      "                    break\n",
      "                else:\n",
      "                    curString = curString[len(translation):]\n",
      "        if curString==\"\":\n",
      "            #print curString, translator\n",
      "            #print \"went through whole string\", translator, curString\n",
      "            return True, translator\n",
      "    #print translator, pat[0]\n",
      "    #print \"-\"*50\n",
      "    try:\n",
      "        del translator[pat[0]]\n",
      "    except:\n",
      "        pass\n",
      "    return False, translator\n",
      "\n",
      "\n",
      "def pattern(pat, string):\n",
      "    print \"-\"*10\n",
      "    pat = list(pat)\n",
      "    if len(pat)==0:\n",
      "        return True\n",
      "    unique = set(pat)\n",
      "    translator = dict(zip(unique, range(len(unique))))\n",
      "    pat = [translator[x] for x in pat]\n",
      "    counts = dd(int)\n",
      "    for x in pat:\n",
      "        counts[x]+=1\n",
      "    res, translator = recur(pat, string, {}, counts, True)\n",
      "    #if res:\n",
      "    #    assert strify([translator[x] for x in pat])==string\n",
      "    return res"
     ],
     "language": "python",
     "metadata": {},
     "outputs": [],
     "prompt_number": 30
    },
    {
     "cell_type": "code",
     "collapsed": false,
     "input": [
      "pat = 'abbacab'\n",
      "match = 'yo' + 'hey' * 2 + 'yo' + 'o' + 'yo' + 'hey'\n",
      "\n",
      "%time pattern(pat*100, match*100)"
     ],
     "language": "python",
     "metadata": {},
     "outputs": [
      {
       "output_type": "stream",
       "stream": "stdout",
       "text": [
        "----------\n",
        "CPU times: user 2.75 ms, sys: 1.32 ms, total: 4.07 ms\n",
        "Wall time: 3.19 ms\n"
       ]
      },
      {
       "metadata": {},
       "output_type": "pyout",
       "prompt_number": 47,
       "text": [
        "True"
       ]
      }
     ],
     "prompt_number": 47
    },
    {
     "cell_type": "code",
     "collapsed": false,
     "input": [
      "def wordpattern(pattern,  match):\n",
      "    #print \"Pattern: %s, Match: %s\" % (pattern, match)\n",
      "\n",
      "    if pattern == \"\" and match == \"\":\n",
      "        return 1\n",
      "    if pattern == \"\" or match == \"\":\n",
      "        return 0\n",
      "\n",
      "    for i in range(1, len(match)+1):\n",
      "        pat = pattern[0]\n",
      "        x = match[:i]\n",
      "\n",
      "        if pat in d:\n",
      "            if match.find(d[pat]) != 0: return 0\n",
      "            return wordpattern(pattern[1:], match.replace(d[pat], '', 1))\n",
      "\n",
      "        else:\n",
      "            d[pat] = x\n",
      "            if wordpattern(pattern.replace(pat, '', 1), match.replace(x, '', 1)) \\\n",
      "                    and len(d.values()) == len(set(d.values())):\n",
      "                return 1\n",
      "\n",
      "        d.pop(pat, None)\n",
      "\n",
      "    return 0\n",
      "\n",
      "d = {}\n",
      "pat = 'abbacab'\n",
      "match = 'yo' + 'hey' * 2 + 'yo' + 'o' + 'yo' + 'hey'\n",
      "\n",
      "%time wordpattern(pat*100, match*100)"
     ],
     "language": "python",
     "metadata": {},
     "outputs": [
      {
       "output_type": "stream",
       "stream": "stdout",
       "text": [
        "CPU times: user 41 ms, sys: 12.4 ms, total: 53.3 ms\n",
        "Wall time: 51.6 ms\n"
       ]
      },
      {
       "metadata": {},
       "output_type": "pyout",
       "prompt_number": 46,
       "text": [
        "1"
       ]
      }
     ],
     "prompt_number": 46
    },
    {
     "cell_type": "code",
     "collapsed": false,
     "input": [],
     "language": "python",
     "metadata": {},
     "outputs": []
    }
   ],
   "metadata": {}
  }
 ]
}