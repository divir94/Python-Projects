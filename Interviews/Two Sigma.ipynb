{
 "cells": [
  {
   "cell_type": "code",
   "execution_count": 210,
   "metadata": {
    "collapsed": false
   },
   "outputs": [
    {
     "name": "stdout",
     "output_type": "stream",
     "text": [
      "0 [set([0])]\n",
      "1 [set([0]), set([1])]\n",
      "2 [set([0]), set([1]), set([2])]\n",
      "3 [set([0]), set([1]), set([2]), set([3])]\n",
      "[set([0]), set([1]), set([2]), set([3])]\n"
     ]
    },
    {
     "data": {
      "text/plain": [
       "4"
      ]
     },
     "execution_count": 210,
     "metadata": {},
     "output_type": "execute_result"
    }
   ],
   "source": [
    "def friendCircles2(friends):\n",
    "    n = len(friends)\n",
    "    M = [[char for char in line] for line in friends]\n",
    "    groups = []\n",
    "    for i in range(n):\n",
    "        for j in range(n):\n",
    "            if M[i][j] == 1 and i != j:\n",
    "                added = False\n",
    "                for k, group in enumerate(groups):\n",
    "                    if i in group:\n",
    "                        new_set = groups[k]\n",
    "                        new_set.add(j)\n",
    "                        groups[k] = new_set\n",
    "                        added = True\n",
    "                    if j in group:\n",
    "                        new_set = groups[k]\n",
    "                        new_set.add(i)\n",
    "                        groups[k] = new_set\n",
    "                        added = True\n",
    "                if not added:\n",
    "                    groups.append(set((i,j)))\n",
    "    for i in range(n):\n",
    "        seen = False\n",
    "        for group in groups:\n",
    "            if i in group:\n",
    "                seen = True\n",
    "        if not seen:\n",
    "            groups.append({i})\n",
    "                \n",
    "        print i, groups\n",
    "    print groups\n",
    "    return len(groups)\n",
    "            \n",
    "inp = ['YNNN', \n",
    "       'YYNN', \n",
    "       'NYYN', \n",
    "       'NNNY']\n",
    "\n",
    "inp2 = ['YY', \n",
    "        'YY']\n",
    "            \n",
    "friendCircles2(inp)"
   ]
  },
  {
   "cell_type": "code",
   "execution_count": 40,
   "metadata": {
    "collapsed": false
   },
   "outputs": [
    {
     "data": {
      "text/plain": [
       "4"
      ]
     },
     "execution_count": 40,
     "metadata": {},
     "output_type": "execute_result"
    }
   ],
   "source": [
    "seen = {}\n",
    "\n",
    "def opt(word, lib):\n",
    "    if word in seen:\n",
    "        return seen[word]\n",
    "    num = 0\n",
    "    if word in lib:\n",
    "        num = max(opt(word[:i] + word[i+1:], lib) + 1 for i in range(len(word)))\n",
    "    seen[word] = num\n",
    "    return num\n",
    "\n",
    "def longest_chain(w):\n",
    "    lib = {word:1 for word in w}\n",
    "    return max(opt(word, lib) for word in w)\n",
    "    \n",
    "w = ['a', 'b', 'ba', 'bca', 'bda', 'bdca']\n",
    "longest_chain(w) "
   ]
  },
  {
   "cell_type": "code",
   "execution_count": 216,
   "metadata": {
    "collapsed": false
   },
   "outputs": [
    {
     "name": "stdout",
     "output_type": "stream",
     "text": [
      "[[1 0 0 0 0 0 0 1 0 0]\n",
      " [0 1 0 0 0 0 1 0 0 0]\n",
      " [0 0 1 0 1 0 0 0 0 0]\n",
      " [0 0 0 1 0 0 0 0 0 0]\n",
      " [0 0 1 0 1 0 1 0 0 0]\n",
      " [0 0 0 0 0 1 1 0 0 0]\n",
      " [0 1 0 0 1 1 1 0 0 0]\n",
      " [1 0 0 0 0 0 0 1 0 0]\n",
      " [0 0 0 0 0 0 0 0 1 0]\n",
      " [0 0 0 0 0 0 0 0 0 1]]\n",
      "5\n",
      "0 [set([0, 7]), set([1, 4, 5, 6]), set([1, 2, 4, 5, 6])]\n",
      "1 [set([0, 7]), set([1, 4, 5, 6]), set([1, 2, 4, 5, 6])]\n",
      "2 [set([0, 7]), set([1, 4, 5, 6]), set([1, 2, 4, 5, 6])]\n",
      "3 [set([0, 7]), set([1, 4, 5, 6]), set([1, 2, 4, 5, 6]), set([3])]\n",
      "4 [set([0, 7]), set([1, 4, 5, 6]), set([1, 2, 4, 5, 6]), set([3])]\n",
      "5 [set([0, 7]), set([1, 4, 5, 6]), set([1, 2, 4, 5, 6]), set([3])]\n",
      "6 [set([0, 7]), set([1, 4, 5, 6]), set([1, 2, 4, 5, 6]), set([3])]\n",
      "7 [set([0, 7]), set([1, 4, 5, 6]), set([1, 2, 4, 5, 6]), set([3])]\n",
      "8 [set([0, 7]), set([1, 4, 5, 6]), set([1, 2, 4, 5, 6]), set([3]), set([8])]\n",
      "9 [set([0, 7]), set([1, 4, 5, 6]), set([1, 2, 4, 5, 6]), set([3]), set([8]), set([9])]\n",
      "[set([0, 7]), set([1, 4, 5, 6]), set([1, 2, 4, 5, 6]), set([3]), set([8]), set([9])]\n",
      "6\n"
     ]
    },
    {
     "data": {
      "image/png": "[encoded data removed]",
      "text/plain": [
       "<matplotlib.figure.Figure at 0x11011b890>"
      ]
     },
     "metadata": {},
     "output_type": "display_data"
    }
   ],
   "source": [
    "import numpy as np\n",
    "import networkx as nx\n",
    "\n",
    "def visitGroup(i, M, visited):\n",
    "    visited[i] = True\n",
    "    for j in range(len(M)):\n",
    "        if M[i][j] == 1 and j not in visited:\n",
    "            visitGroup(j, M, visited)\n",
    "    return visited\n",
    "\n",
    "def friendCircles(friends):\n",
    "    n = len(friends)\n",
    "    M = [[char for char in line] for line in friends]\n",
    "    num_comp = 0\n",
    "    visited = {}\n",
    "    \n",
    "    for i in range(n):\n",
    "        if i not in visited:\n",
    "            num_comp += 1\n",
    "            visited = visitGroup(i, M, visited)\n",
    "    return num_comp\n",
    "\n",
    "size = 10\n",
    "A = np.random.randint(3, size=(size, size))\n",
    "f = np.vectorize(lambda x: 1 if x == 1 else 0)\n",
    "A = f(A)\n",
    "A = ((A + A.T) / 2)\n",
    "np.fill_diagonal(A, 1)\n",
    "\n",
    "print A\n",
    "print friendCircles(A)\n",
    "print friendCircles2(A)\n",
    "\n",
    "G = nx.from_numpy_matrix(A)\n",
    "pos = nx.spring_layout(G)\n",
    "nx.draw_networkx_labels(G, pos)\n",
    "nx.draw(G, pos)"
   ]
  },
  {
   "cell_type": "markdown",
   "metadata": {
    "collapsed": true
   },
   "source": [
    "##Onsite questions\n",
    "- Evaluate a postfix tree e.g. \"4 2 / 3 -\" is 1. \n",
    "- A tree with pointers to parent elements is stored in an array. Given an index to the array, delete all the nodes in the subtree rooted at that index.\n",
    "- If your website is slow and you have optimized the code on the server side what could be wrong? (network level, server RAM etc.). If a client calls up saying that they can't load your website, what do you tell them?\n",
    "- You have 2 markets A and B, there is a take method A.take() and B.take() that is blocking anf gives you a tuple (ti, vi) with a time and value. Time is increasing as you take. Output all pairs (ti, tj) from A and B respectively s.t. |ti - tj| <= 1 sec. 2 seperate threads, blocking, locks.\n",
    "- You are given a CSV of bike data with fields including bike_number, start_station, and end_station. Output the bike with that has been to the most number of unique stations. Groupby and sum over sets. How would you test this?\n",
    "- You are given a CSV from dbpedia of company ids, name, ticker, and subsidiaries. Given a ticker, output all subsidiaries.\n",
    "- Find the set intersection of 2 sets by using only constant memory. Sort the 2 lists and keep comapring the heads and incrementing the pointers.\n"
   ]
  }
 ],
 "metadata": {
  "kernelspec": {
   "display_name": "Python 2",
   "language": "python",
   "name": "python2"
  },
  "language_info": {
   "codemirror_mode": {
    "name": "ipython",
    "version": 2
   },
   "file_extension": ".py",
   "mimetype": "text/x-python",
   "name": "python",
   "nbconvert_exporter": "python",
   "pygments_lexer": "ipython2",
   "version": "2.7.10"
  }
 },
 "nbformat": 4,
 "nbformat_minor": 0
}
