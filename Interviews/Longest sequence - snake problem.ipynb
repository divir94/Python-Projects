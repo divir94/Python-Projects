{
 "cells": [
  {
   "cell_type": "code",
   "execution_count": 76,
   "metadata": {
    "collapsed": false
   },
   "outputs": [
    {
     "name": "stdout",
     "output_type": "stream",
     "text": [
      "[[ 1  3  2  6  8]\n",
      " [-9  7  1 -1  2]\n",
      " [ 1  5  0  1  9]]\n",
      "{(0, 0): (1, [1]),\n",
      " (0, 1): (5, [3, 2, 1, 0, 1]),\n",
      " (0, 2): (4, [2, 1, 0, 1]),\n",
      " (0, 3): (1, [6]),\n",
      " (0, 4): (1, [8]),\n",
      " (1, 0): (1, [-9]),\n",
      " (1, 1): (1, [7]),\n",
      " (1, 2): (3, [1, 0, 1]),\n",
      " (1, 3): (1, [-1]),\n",
      " (1, 4): (1, [2]),\n",
      " (2, 0): (1, [1]),\n",
      " (2, 1): (1, [5]),\n",
      " (2, 2): (2, [0, 1]),\n",
      " (2, 3): (1, [1]),\n",
      " (2, 4): (1, [9])}\n"
     ]
    }
   ],
   "source": [
    "import numpy as np\n",
    "from pprint import pprint\n",
    "\n",
    "def main_seq():\n",
    "    for i, row in enumerate(A):\n",
    "        for j, elem in enumerate(row):\n",
    "            d[(i, j)] = seq(i, j)\n",
    "    return max(d)\n",
    "                \n",
    "def check_constraint(a, b):\n",
    "    return a + 1 == b or a - 1 == b\n",
    "\n",
    "def seq(i, j):\n",
    "    if (i, j) in d: return d[(i, j)]\n",
    "        \n",
    "    res = (1, [A[i][j]])\n",
    "    right_valid = check_constraint(A[i][j], A[i][j + 1]) if j < (M - 1) else False\n",
    "    down_valid = check_constraint(A[i][j], A[i + 1][j]) if i < (N - 1) else False\n",
    "    \n",
    "    if right_valid and down_valid:\n",
    "        size_right, path_right = seq(i, j + 1)\n",
    "        size_down, path_down = seq(i, j + 1)\n",
    "        res = (size_right + 1, [A[i][j]] + path_right) if size_right > size_down else (size_down + 1, [A[i][j]] + path_down)\n",
    "    elif right_valid:\n",
    "        size, path_right = seq(i, j + 1)\n",
    "        res = (size + 1, [A[i][j]] + path_right)\n",
    "    elif down_valid:\n",
    "        size, path_down = seq(i + 1, j)\n",
    "        res = (size + 1, [A[i][j]] + path_down)\n",
    "    \n",
    "    d[(i, j)] = res\n",
    "    return res\n",
    "\n",
    "d = {}\n",
    "A = np.array([[1,3,2,6,8], [-9,7,1,-1,2], [1,5,0,1,9]])\n",
    "N, M = A.shape\n",
    "main_seq()\n",
    "print A\n",
    "pprint(d)"
   ]
  },
  {
   "cell_type": "code",
   "execution_count": 56,
   "metadata": {
    "collapsed": false
   },
   "outputs": [
    {
     "data": {
      "text/plain": [
       "(1, 2, 2, 3)"
      ]
     },
     "execution_count": 56,
     "metadata": {},
     "output_type": "execute_result"
    }
   ],
   "source": [
    "(1, 2) + (2, 3)"
   ]
  },
  {
   "cell_type": "code",
   "execution_count": null,
   "metadata": {
    "collapsed": true
   },
   "outputs": [],
   "source": []
  }
 ],
 "metadata": {
  "kernelspec": {
   "display_name": "Python 2",
   "language": "python",
   "name": "python2"
  },
  "language_info": {
   "codemirror_mode": {
    "name": "ipython",
    "version": 2
   },
   "file_extension": ".py",
   "mimetype": "text/x-python",
   "name": "python",
   "nbconvert_exporter": "python",
   "pygments_lexer": "ipython2",
   "version": "2.7.10"
  }
 },
 "nbformat": 4,
 "nbformat_minor": 0
}
