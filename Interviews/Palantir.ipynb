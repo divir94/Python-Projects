{
 "cells": [
  {
   "cell_type": "code",
   "execution_count": 50,
   "metadata": {
    "collapsed": false
   },
   "outputs": [
    {
     "name": "stdout",
     "output_type": "stream",
     "text": [
      "['00:05', '05:30', '06:50', '08:55', '23:05']\n",
      "60\n"
     ]
    }
   ],
   "source": [
    "def diff(time1, time2):\n",
    "    h1, m1, = int(time1[:2]), int(time1[3:])\n",
    "    h2, m2, = int(time2[:2]), int(time2[3:])\n",
    "    \n",
    "    if h2 == h1:\n",
    "        return abs(m2 - m1)\n",
    "    elif h2 > h1:\n",
    "        return min((h2 - h1) * 60 + (m2 - m1), (24 + h1 - h2) * 60 + (m1 - m2))\n",
    "    else:\n",
    "        return min((h1 - h2) * 60 + (m1 - m2), (24 + h2 - h1) * 60 + (m2 - m1))\n",
    "\n",
    "def cmp_times(time1, time2):\n",
    "    h1, m1, = int(time1[:2]), int(time1[3:])\n",
    "    h2, m2, = int(time2[:2]), int(time2[3:])\n",
    "    return 1 if ((h1 == h2 and m1 > m2) or h1 > h2) else -1 \n",
    "\n",
    "def  getMinTimeDifference( times):\n",
    "    times.sort(cmp_times)\n",
    "    print times\n",
    "    min_seen = 60 * 24\n",
    "    size = len(times)\n",
    "    for i in range(size):\n",
    "        j = (i - 1) % size\n",
    "        d = diff(times[i], times[j])\n",
    "        min_seen = min(min_seen, d)\n",
    "    return min_seen\n",
    "\n",
    "times = ['23:05', '08:55', '05:30', '06:50', '00:05']\n",
    "print getMinTimeDifference(times)"
   ]
  },
  {
   "cell_type": "code",
   "execution_count": 60,
   "metadata": {
    "collapsed": false
   },
   "outputs": [
    {
     "name": "stdout",
     "output_type": "stream",
     "text": [
      "['K', 'S', 'M']\n"
     ]
    }
   ],
   "source": [
    "def  getSuspiciousList(transactions):\n",
    "    seen_name = {}\n",
    "    seen_fraud = {}\n",
    "    size = len(transactions)\n",
    "    fraud = [None] * size\n",
    "    for i in range(size):\n",
    "        name, amt, loc, time = transactions[i].split('|')\n",
    "        amt, time = int(amt), int(time)\n",
    "        if amt > 3000 and name not in seen_fraud:\n",
    "            fraud[i] = name\n",
    "            seen_fraud[name] = True\n",
    "        else:\n",
    "            if name in seen_name:\n",
    "                last_idx, last_time, last_loc = seen_name[name]\n",
    "                if (time - last_time) <= 60 and loc != last_loc:\n",
    "                    fraud[last_idx] = name\n",
    "                    seen_fraud[name] = True\n",
    "        seen_name[name] = i, time, loc\n",
    "    fraud = filter(lambda x: x, fraud)\n",
    "    return fraud\n",
    "\n",
    "transactions = [\n",
    "    'S|500|C|63',\n",
    "    'T|25|N|615',\n",
    "    'K|9000|C|1230',\n",
    "    'S|50|M|1300',\n",
    "    'M|10000|G|1305',\n",
    "    'S|50|C|1350'\n",
    "]\n",
    "\n",
    "print getSuspiciousList(transactions)"
   ]
  },
  {
   "cell_type": "code",
   "execution_count": null,
   "metadata": {
    "collapsed": true
   },
   "outputs": [],
   "source": []
  }
 ],
 "metadata": {
  "kernelspec": {
   "display_name": "Python 2",
   "language": "python",
   "name": "python2"
  },
  "language_info": {
   "codemirror_mode": {
    "name": "ipython",
    "version": 2
   },
   "file_extension": ".py",
   "mimetype": "text/x-python",
   "name": "python",
   "nbconvert_exporter": "python",
   "pygments_lexer": "ipython2",
   "version": "2.7.10"
  }
 },
 "nbformat": 4,
 "nbformat_minor": 0
}
