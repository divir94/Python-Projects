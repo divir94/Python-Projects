{
 "cells": [
  {
   "cell_type": "code",
   "execution_count": 149,
   "metadata": {
    "collapsed": false
   },
   "outputs": [
    {
     "name": "stdout",
     "output_type": "stream",
     "text": [
      "3\n"
     ]
    }
   ],
   "source": [
    "import numpy as np\n",
    "\n",
    "def calculate_profit(prices):\n",
    "    profit = 0\n",
    "    highest = -1\n",
    "    for price in reversed(prices):\n",
    "        if price < highest:\n",
    "            profit += highest - price\n",
    "        else:\n",
    "            highest = price\n",
    "    return profit\n",
    "    \n",
    "\n",
    "prices = [1, 3, 1, 2]\n",
    "print calculate_profit(prices)"
   ]
  },
  {
   "cell_type": "code",
   "execution_count": 88,
   "metadata": {
    "collapsed": false
   },
   "outputs": [
    {
     "name": "stdout",
     "output_type": "stream",
     "text": [
      "42\n"
     ]
    }
   ],
   "source": [
    "def modified_fib(n):\n",
    "    memo = [7] * 3\n",
    "    for i in xrange(n - 2):\n",
    "        memo = [memo[1], memo[2], memo[2] + memo[0]]\n",
    "    return memo[2]\n",
    "    \n",
    "print modified_fib(6)"
   ]
  },
  {
   "cell_type": "code",
   "execution_count": 233,
   "metadata": {
    "collapsed": false
   },
   "outputs": [
    {
     "name": "stdout",
     "output_type": "stream",
     "text": [
      "99\n"
     ]
    }
   ],
   "source": [
    "def get_cumsum(lst):\n",
    "    tot = 0\n",
    "    cum = []\n",
    "    for num in lst:\n",
    "        tot += num\n",
    "        cum.append(tot)\n",
    "    return cum\n",
    "\n",
    "def brick_game(nums):\n",
    "    nums = nums[::-1]\n",
    "    cumsum = get_cumsum(bricks[::-1])\n",
    "    memo = cumsum[:]\n",
    "    for i in xrange(3, len(nums)):\n",
    "        memo[i] = max(nums[i] + cumsum[i-1] - memo[i-1],\n",
    "                      nums[i] + nums[i-1] + cumsum[i-2] - memo[i-2],\n",
    "                      nums[i] + nums[i-1] + nums[i-2] + cumsum[i-3] - memo[i-3])\n",
    "    return memo[-1]\n",
    "    \n",
    "bricks = [0, 1, 1, 1, 99]\n",
    "print brick_game(bricks)"
   ]
  },
  {
   "cell_type": "code",
   "execution_count": 237,
   "metadata": {
    "collapsed": false
   },
   "outputs": [
    {
     "name": "stdout",
     "output_type": "stream",
     "text": [
      "defaultdict(<type 'int'>, {0: 99, 1: 100, 2: 101, 3: 3, 4: 99, -1: 0, -3: 0, -2: 0})\n",
      "99\n"
     ]
    }
   ],
   "source": [
    "from collections import defaultdict                                       \n",
    "                                                    \n",
    "def brick_game(bricks):                                                              \n",
    "    bricks = bricks[::-1]                                                        \n",
    "    memo = defaultdict(int)  \n",
    "    size = len(bricks)\n",
    "    tot = 0                                                               \n",
    "    for i in xrange(size):                                              \n",
    "        tot += bricks[i]    \n",
    "        memo[i] = max(tot - memo[i-1], tot - memo[i-2], tot - memo[i-3])   \n",
    "    print memo\n",
    "    return memo[size - 1]                                                 \n",
    "    \n",
    "bricks = [0, 1, 1, 1, 99]\n",
    "print brick_game(bricks)"
   ]
  },
  {
   "cell_type": "code",
   "execution_count": null,
   "metadata": {
    "collapsed": true
   },
   "outputs": [],
   "source": []
  }
 ],
 "metadata": {
  "kernelspec": {
   "display_name": "Python 2",
   "language": "python",
   "name": "python2"
  },
  "language_info": {
   "codemirror_mode": {
    "name": "ipython",
    "version": 2
   },
   "file_extension": ".py",
   "mimetype": "text/x-python",
   "name": "python",
   "nbconvert_exporter": "python",
   "pygments_lexer": "ipython2",
   "version": "2.7.10"
  }
 },
 "nbformat": 4,
 "nbformat_minor": 0
}
