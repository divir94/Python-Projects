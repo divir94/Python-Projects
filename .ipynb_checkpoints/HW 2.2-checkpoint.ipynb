{
 "cells": [
  {
   "cell_type": "markdown",
   "metadata": {
    "collapsed": false
   },
   "source": [
    "#EECS 336 Fall 2015\n",
    "##Homework Problem 2.2"
   ]
  },
  {
   "cell_type": "markdown",
   "metadata": {
    "collapsed": true
   },
   "source": [
    "<b>To prove:</b> <br>\n",
    "Every MST of $G$ minimizes $\\max\\limits_{e \\in S} t(e)$, the maximum time any employee spends shoveling where $S$ is the set of edges of the MST, subject to the connectivity constraint. <br>\n",
    "We can write this as $\\max\\limits_{e \\in S} t(e) \\leq \\max\\limits_{e \\in T} t(e)$ for every other feasible solution (a spanning tree) $T$."
   ]
  },
  {
   "cell_type": "markdown",
   "metadata": {},
   "source": [
    "<b>Proof by contradiction:</b> \n",
    "\n",
    "* Assume on the contrary that $\\exists \\enspace S, T$ such that $\\max\\limits_{e \\in S} t(e) > \\max\\limits_{e \\in T} t(e)$.\n",
    "\n",
    "* Let $e_s, e_t$ be the edges with the maximum weight in $S$ and $T$ respectively. If we add an edge to a MST, we get a cycle as we have $n$ edges for $n$ nodes.\n",
    "\n",
    "* If $e_s$ was part of a cycle in the original graph $G$, then there exists an edge $f$ in some $T$ such that if we add $f$ to $S$ we get a cycle $e_s, f \\in C$. Since we can delete $e_s$ from $C$ and stil have a spanning tree with $f$ and $t(f) < t(e_s)$, we have a spanning tree with a lower cost than the MST. Therefore, $S$ could not have been a MST.\n",
    "\n",
    "* On the other hand, if $e_s$ was not part of a cycle in the original graph $G$, then $e_s$ cut $G$ and has to be in every spanning tree. Therefore, $\\max\\limits_{e \\in S} t(e) = \\max\\limits_{e \\in T} t(e)$ since both contain $e_s$.\n",
    "\n",
    "* By contradiction, we showed that $\\max\\limits_{e \\in S} t(e) > \\max\\limits_{e \\in T} t(e)$ cannot hold. Therefore, we have $\\max\\limits_{e \\in S} t(e) \\leq \\max\\limits_{e \\in T} t(e)$ and every MST of $G$ minimizes $\\max\\limits_{e \\in S} t(e)$, the maximum time any employee spends shoveling.\n",
    "\n",
    "* Therefore, our approach is <b>fair</b> and also <b>connected</b> as an MST has to span all the nodes in $G$."
   ]
  }
 ],
 "metadata": {
  "kernelspec": {
   "display_name": "Python 2",
   "language": "python",
   "name": "python2"
  },
  "language_info": {
   "codemirror_mode": {
    "name": "ipython",
    "version": 2
   },
   "file_extension": ".py",
   "mimetype": "text/x-python",
   "name": "python",
   "nbconvert_exporter": "python",
   "pygments_lexer": "ipython2",
   "version": "2.7.10"
  }
 },
 "nbformat": 4,
 "nbformat_minor": 0
}
